{
 "cells": [
  {
   "attachments": {},
   "cell_type": "markdown",
   "metadata": {},
   "source": [
    "# Important Library\n",
    "\n",
    "We use the following libraries in this project:\n",
    "* [Pandas](https://pandas.pydata.org/) - Data Analysis\n",
    "* [Numpy](https://numpy.org/) - Data Analysis\n",
    "* [Matplotlib](https://matplotlib.org/) - Data Visualization\n",
    "* [Seaborn](https://seaborn.pydata.org/) - Data Visualization\n",
    "* [Scikit-learn](https://scikit-learn.org/stable/) - Machine Learning\n",
    "* [Tensorflow](https://www.tensorflow.org/) - Machine Learning\n",
    "* [Keras](https://keras.io/) - Machine Learning"
   ]
  },
  {
   "cell_type": "code",
   "execution_count": 1,
   "metadata": {},
   "outputs": [
    {
     "name": "stdout",
     "output_type": "stream",
     "text": [
      "2.12.0\n",
      "1.23.5\n",
      "0.12.2\n"
     ]
    }
   ],
   "source": [
    "import tensorflow as tf\n",
    "import numpy as np\n",
    "import matplotlib.pyplot as plt\n",
    "import os\n",
    "import seaborn as sns\n",
    "\n",
    "print(tf.__version__)\n",
    "print(np.__version__)\n",
    "print(sns.__version__)"
   ]
  },
  {
   "attachments": {},
   "cell_type": "markdown",
   "metadata": {},
   "source": [
    "# Exploring the Dataset"
   ]
  },
  {
   "cell_type": "code",
   "execution_count": 2,
   "metadata": {},
   "outputs": [],
   "source": [
    "base_dir = './data/Vegetable Images'\n",
    "\n",
    "train_dir = os.path.join(base_dir, 'train')\n",
    "validation_dir = os.path.join(base_dir, 'validation')\n",
    "test_dir = os.path.join(base_dir, 'test')\n",
    "\n",
    "# Directory with our training pictures\n",
    "train_bean_dir = os.path.join(train_dir, 'Bean')\n",
    "train_bitter_gourd_dir = os.path.join(train_dir, 'Bitter_Gourd')\n",
    "train_bottle_gourd_dir = os.path.join(train_dir, 'Bottle_Gourd')\n",
    "train_brinjal_dir = os.path.join(train_dir, 'Brinjal')\n",
    "train_broccoli_dir = os.path.join(train_dir, 'Broccoli')\n",
    "train_cabbage_dir = os.path.join(train_dir, 'Cabbage')\n",
    "train_capsicum_dir = os.path.join(train_dir, 'Capsicum')\n",
    "train_carrot_dir = os.path.join(train_dir, 'Carrot')\n",
    "train_cauliflower_dir = os.path.join(train_dir, 'Cauliflower')\n",
    "train_cucumber_dir = os.path.join(train_dir, 'Cucumber')\n",
    "train_papaya_dir = os.path.join(train_dir, 'Papaya')\n",
    "train_potato_dir = os.path.join(train_dir, 'Potato')\n",
    "train_pumpkin_dir = os.path.join(train_dir, 'Pumpkin')\n",
    "train_radish_dir = os.path.join(train_dir, 'Radish')\n",
    "train_tomato_dir = os.path.join(train_dir, 'Tomato')\n",
    "\n",
    "# Directory with our validation pictures\n",
    "validation_bean_dir = os.path.join(validation_dir, 'Bean')\n",
    "validation_bitter_gourd_dir = os.path.join(validation_dir, 'Bitter_Gourd')\n",
    "validation_bottle_gourd_dir = os.path.join(validation_dir, 'Bottle_Gourd')\n",
    "validation_brinjal_dir = os.path.join(validation_dir, 'Brinjal')\n",
    "validation_broccoli_dir = os.path.join(validation_dir, 'Broccoli')\n",
    "validation_cabbage_dir = os.path.join(validation_dir, 'Cabbage')\n",
    "validation_capsicum_dir = os.path.join(validation_dir, 'Capsicum')\n",
    "validation_carrot_dir = os.path.join(validation_dir, 'Carrot')\n",
    "validation_cauliflower_dir = os.path.join(validation_dir, 'Cauliflower')\n",
    "validation_cucumber_dir = os.path.join(validation_dir, 'Cucumber')\n",
    "validation_papaya_dir = os.path.join(validation_dir, 'Papaya')\n",
    "validation_potato_dir = os.path.join(validation_dir, 'Potato')\n",
    "validation_pumpkin_dir = os.path.join(validation_dir, 'Pumpkin')\n",
    "validation_radish_dir = os.path.join(validation_dir, 'Radish')\n",
    "validation_tomato_dir = os.path.join(validation_dir, 'Tomato')\n",
    "\n",
    "# Directory with our test pictures\n",
    "test_bean_dir = os.path.join(test_dir, 'Bean')\n",
    "test_bitter_gourd_dir = os.path.join(test_dir, 'Bitter_Gourd')\n",
    "test_bottle_gourd_dir = os.path.join(test_dir, 'Bottle_Gourd')\n",
    "test_brinjal_dir = os.path.join(test_dir, 'Brinjal')\n",
    "test_broccoli_dir = os.path.join(test_dir, 'Broccoli')\n",
    "test_cabbage_dir = os.path.join(test_dir, 'Cabbage')\n",
    "test_capsicum_dir = os.path.join(test_dir, 'Capsicum')\n",
    "test_carrot_dir = os.path.join(test_dir, 'Carrot')\n",
    "test_cauliflower_dir = os.path.join(test_dir, 'Cauliflower')\n",
    "test_cucumber_dir = os.path.join(test_dir, 'Cucumber')\n",
    "test_papaya_dir = os.path.join(test_dir, 'Papaya')\n",
    "test_potato_dir = os.path.join(test_dir, 'Potato')\n",
    "test_pumpkin_dir = os.path.join(test_dir, 'Pumpkin')\n",
    "test_radish_dir = os.path.join(test_dir, 'Radish')\n",
    "test_tomato_dir = os.path.join(test_dir, 'Tomato')\n"
   ]
  },
  {
   "attachments": {},
   "cell_type": "markdown",
   "metadata": {},
   "source": [
    "Find how many images for each class in the training set"
   ]
  },
  {
   "cell_type": "code",
   "execution_count": 3,
   "metadata": {},
   "outputs": [
    {
     "name": "stdout",
     "output_type": "stream",
     "text": [
      "total training Bean images: 1000\n",
      "total training Bitter_Gourd images: 1000\n",
      "total training Bottle_Gourd images: 1000\n",
      "total training Brinjal images: 1000\n",
      "total training Broccoli images: 1000\n",
      "total training Cabbage images: 1000\n",
      "total training Capsicum images: 1000\n",
      "total training Carrot images: 1000\n",
      "total training Cauliflower images: 1000\n",
      "total training Cucumber images: 1000\n",
      "total training Papaya images: 1000\n",
      "total training Potato images: 1000\n",
      "total training Pumpkin images: 1000\n",
      "total training Radish images: 1000\n",
      "total training Tomato images: 1000\n"
     ]
    }
   ],
   "source": [
    "print('total training Bean images:', len(os.listdir(train_bean_dir)))\n",
    "print('total training Bitter_Gourd images:', len(os.listdir(train_bitter_gourd_dir)))\n",
    "print('total training Bottle_Gourd images:', len(os.listdir(train_bottle_gourd_dir)))\n",
    "print('total training Brinjal images:', len(os.listdir(train_brinjal_dir)))\n",
    "print('total training Broccoli images:', len(os.listdir(train_broccoli_dir)))\n",
    "print('total training Cabbage images:', len(os.listdir(train_cabbage_dir)))\n",
    "print('total training Capsicum images:', len(os.listdir(train_capsicum_dir)))\n",
    "print('total training Carrot images:', len(os.listdir(train_carrot_dir)))\n",
    "print('total training Cauliflower images:', len(os.listdir(train_cauliflower_dir)))\n",
    "print('total training Cucumber images:', len(os.listdir(train_cucumber_dir)))\n",
    "print('total training Papaya images:', len(os.listdir(train_papaya_dir)))\n",
    "print('total training Potato images:', len(os.listdir(train_potato_dir)))\n",
    "print('total training Pumpkin images:', len(os.listdir(train_pumpkin_dir)))\n",
    "print('total training Radish images:', len(os.listdir(train_radish_dir)))\n",
    "print('total training Tomato images:', len(os.listdir(train_tomato_dir)))"
   ]
  },
  {
   "attachments": {},
   "cell_type": "markdown",
   "metadata": {},
   "source": [
    "Find how many images for each class in the validation set"
   ]
  },
  {
   "cell_type": "code",
   "execution_count": 4,
   "metadata": {},
   "outputs": [
    {
     "name": "stdout",
     "output_type": "stream",
     "text": [
      "total validation Bean images: 200\n",
      "total validation Bitter_Gourd images: 200\n",
      "total validation Bottle_Gourd images: 200\n",
      "total validation Brinjal images: 200\n",
      "total validation Broccoli images: 200\n",
      "total validation Cabbage images: 200\n",
      "total validation Capsicum images: 200\n",
      "total validation Carrot images: 200\n",
      "total validation Cauliflower images: 200\n",
      "total validation Cucumber images: 200\n",
      "total validation Papaya images: 200\n",
      "total validation Potato images: 200\n",
      "total validation Pumpkin images: 200\n",
      "total validation Radish images: 200\n",
      "total validation Tomato images: 200\n"
     ]
    }
   ],
   "source": [
    "print('total validation Bean images:', len(os.listdir(validation_bean_dir)))\n",
    "print('total validation Bitter_Gourd images:', len(os.listdir(validation_bitter_gourd_dir)))\n",
    "print('total validation Bottle_Gourd images:', len(os.listdir(validation_bottle_gourd_dir)))\n",
    "print('total validation Brinjal images:', len(os.listdir(validation_brinjal_dir)))\n",
    "print('total validation Broccoli images:', len(os.listdir(validation_broccoli_dir)))\n",
    "print('total validation Cabbage images:', len(os.listdir(validation_cabbage_dir)))\n",
    "print('total validation Capsicum images:', len(os.listdir(validation_capsicum_dir)))\n",
    "print('total validation Carrot images:', len(os.listdir(validation_carrot_dir)))\n",
    "print('total validation Cauliflower images:', len(os.listdir(validation_cauliflower_dir)))\n",
    "print('total validation Cucumber images:', len(os.listdir(validation_cucumber_dir)))\n",
    "print('total validation Papaya images:', len(os.listdir(validation_papaya_dir)))\n",
    "print('total validation Potato images:', len(os.listdir(validation_potato_dir)))\n",
    "print('total validation Pumpkin images:', len(os.listdir(validation_pumpkin_dir)))\n",
    "print('total validation Radish images:', len(os.listdir(validation_radish_dir)))\n",
    "print('total validation Tomato images:', len(os.listdir(validation_tomato_dir)))"
   ]
  },
  {
   "attachments": {},
   "cell_type": "markdown",
   "metadata": {},
   "source": [
    "Find how many images for eash class in the test set"
   ]
  },
  {
   "cell_type": "code",
   "execution_count": 5,
   "metadata": {},
   "outputs": [
    {
     "name": "stdout",
     "output_type": "stream",
     "text": [
      "total test Bean images: 200\n",
      "total test Bitter_Gourd images: 200\n",
      "total test Bottle_Gourd images: 200\n",
      "total test Brinjal images: 200\n",
      "total test Broccoli images: 200\n",
      "total test Cabbage images: 200\n",
      "total test Capsicum images: 200\n",
      "total test Carrot images: 200\n",
      "total test Cauliflower images: 200\n",
      "total test Cucumber images: 200\n",
      "total test Papaya images: 200\n",
      "total test Potato images: 200\n",
      "total test Pumpkin images: 200\n",
      "total test Radish images: 200\n",
      "total test Tomato images: 200\n"
     ]
    }
   ],
   "source": [
    "print('total test Bean images:', len(os.listdir(test_bean_dir)))\n",
    "print('total test Bitter_Gourd images:', len(os.listdir(test_bitter_gourd_dir)))\n",
    "print('total test Bottle_Gourd images:', len(os.listdir(test_bottle_gourd_dir)))\n",
    "print('total test Brinjal images:', len(os.listdir(test_brinjal_dir)))\n",
    "print('total test Broccoli images:', len(os.listdir(test_broccoli_dir)))\n",
    "print('total test Cabbage images:', len(os.listdir(test_cabbage_dir)))\n",
    "print('total test Capsicum images:', len(os.listdir(test_capsicum_dir)))\n",
    "print('total test Carrot images:', len(os.listdir(test_carrot_dir)))\n",
    "print('total test Cauliflower images:', len(os.listdir(test_cauliflower_dir)))\n",
    "print('total test Cucumber images:', len(os.listdir(test_cucumber_dir)))\n",
    "print('total test Papaya images:', len(os.listdir(test_papaya_dir)))\n",
    "print('total test Potato images:', len(os.listdir(test_potato_dir)))\n",
    "print('total test Pumpkin images:', len(os.listdir(test_pumpkin_dir)))\n",
    "print('total test Radish images:', len(os.listdir(test_radish_dir)))\n",
    "print('total test Tomato images:', len(os.listdir(test_tomato_dir)))"
   ]
  },
  {
   "attachments": {},
   "cell_type": "markdown",
   "metadata": {},
   "source": [
    "# Creating Small Model"
   ]
  },
  {
   "cell_type": "code",
   "execution_count": 12,
   "metadata": {},
   "outputs": [],
   "source": [
    "model = tf.keras.models.Sequential([\n",
    "    # Layer 1\n",
    "    tf.keras.layers.Conv2D(16, (3, 3), activation='relu', input_shape=(224, 224, 3)),\n",
    "    tf.keras.layers.MaxPooling2D(2, 2),\n",
    "\n",
    "    # Layer 2\n",
    "    tf.keras.layers.Conv2D(32, (3, 3), activation='relu'),\n",
    "    tf.keras.layers.MaxPooling2D(2, 2),\n",
    "\n",
    "    # Layer 3\n",
    "    tf.keras.layers.Conv2D(64, (3, 3), activation='relu'),\n",
    "    tf.keras.layers.MaxPooling2D(2, 2),\n",
    "\n",
    "    # Layer 4\n",
    "    tf.keras.layers.Conv2D(128, (3, 3), activation='relu'),\n",
    "    tf.keras.layers.MaxPooling2D(2, 2),\n",
    "\n",
    "    # Layer 5\n",
    "    tf.keras.layers.Conv2D(256, (3, 3), activation='relu'),\n",
    "    tf.keras.layers.MaxPooling2D(2,2),\n",
    "    \n",
    "    #Layer 6\n",
    "    tf.keras.layers.Conv2D(512, (3, 3), activation='relu'),\n",
    "    tf.keras.layers.MaxPooling2D(2,2),\n",
    "       \n",
    "    # Flatten the results to feed into a DNN\n",
    "    tf.keras.layers.Flatten(),\n",
    "\n",
    "    # 512 neuron hidden layer\n",
    "    tf.keras.layers.Dense(1024, activation='relu'),\n",
    "    tf.keras.layers.Dropout(0.2),\n",
    "    \n",
    "    tf.keras.layers.Dense(512, activation='relu'),\n",
    "    tf.keras.layers.Dropout(0.2),\n",
    "\n",
    "    # 15 output neurons for 15 classes with the softmax activation\n",
    "    tf.keras.layers.Dense(15, activation='softmax')\n",
    "])"
   ]
  },
  {
   "cell_type": "code",
   "execution_count": 13,
   "metadata": {},
   "outputs": [
    {
     "name": "stdout",
     "output_type": "stream",
     "text": [
      "Model: \"sequential_1\"\n",
      "_________________________________________________________________\n",
      " Layer (type)                Output Shape              Param #   \n",
      "=================================================================\n",
      " conv2d_4 (Conv2D)           (None, 222, 222, 16)      448       \n",
      "                                                                 \n",
      " max_pooling2d_4 (MaxPooling  (None, 111, 111, 16)     0         \n",
      " 2D)                                                             \n",
      "                                                                 \n",
      " conv2d_5 (Conv2D)           (None, 109, 109, 32)      4640      \n",
      "                                                                 \n",
      " max_pooling2d_5 (MaxPooling  (None, 54, 54, 32)       0         \n",
      " 2D)                                                             \n",
      "                                                                 \n",
      " conv2d_6 (Conv2D)           (None, 52, 52, 64)        18496     \n",
      "                                                                 \n",
      " max_pooling2d_6 (MaxPooling  (None, 26, 26, 64)       0         \n",
      " 2D)                                                             \n",
      "                                                                 \n",
      " conv2d_7 (Conv2D)           (None, 24, 24, 128)       73856     \n",
      "                                                                 \n",
      " max_pooling2d_7 (MaxPooling  (None, 12, 12, 128)      0         \n",
      " 2D)                                                             \n",
      "                                                                 \n",
      " conv2d_8 (Conv2D)           (None, 10, 10, 256)       295168    \n",
      "                                                                 \n",
      " max_pooling2d_8 (MaxPooling  (None, 5, 5, 256)        0         \n",
      " 2D)                                                             \n",
      "                                                                 \n",
      " conv2d_9 (Conv2D)           (None, 3, 3, 512)         1180160   \n",
      "                                                                 \n",
      " max_pooling2d_9 (MaxPooling  (None, 1, 1, 512)        0         \n",
      " 2D)                                                             \n",
      "                                                                 \n",
      " flatten_1 (Flatten)         (None, 512)               0         \n",
      "                                                                 \n",
      " dense_2 (Dense)             (None, 1024)              525312    \n",
      "                                                                 \n",
      " dropout (Dropout)           (None, 1024)              0         \n",
      "                                                                 \n",
      " dense_3 (Dense)             (None, 512)               524800    \n",
      "                                                                 \n",
      " dropout_1 (Dropout)         (None, 512)               0         \n",
      "                                                                 \n",
      " dense_4 (Dense)             (None, 15)                7695      \n",
      "                                                                 \n",
      "=================================================================\n",
      "Total params: 2,630,575\n",
      "Trainable params: 2,630,575\n",
      "Non-trainable params: 0\n",
      "_________________________________________________________________\n"
     ]
    }
   ],
   "source": [
    "model.summary()"
   ]
  },
  {
   "cell_type": "code",
   "execution_count": 14,
   "metadata": {},
   "outputs": [],
   "source": [
    "model.compile(loss='categorical_crossentropy', optimizer='adam', metrics=['accuracy'])"
   ]
  },
  {
   "attachments": {},
   "cell_type": "markdown",
   "metadata": {},
   "source": [
    "# Data Preprocessing"
   ]
  },
  {
   "cell_type": "code",
   "execution_count": 15,
   "metadata": {},
   "outputs": [
    {
     "name": "stdout",
     "output_type": "stream",
     "text": [
      "Found 15000 images belonging to 15 classes.\n",
      "Found 3000 images belonging to 15 classes.\n",
      "Found 3000 images belonging to 15 classes.\n"
     ]
    }
   ],
   "source": [
    "from keras.preprocessing.image import ImageDataGenerator\n",
    "\n",
    "# Rescale all images by 1./255 and apply image augmentation\n",
    "train_datagen = ImageDataGenerator(rescale=1. / 255,\n",
    "                                    rotation_range=40,\n",
    "                                    width_shift_range=0.2,\n",
    "                                    height_shift_range=0.2,\n",
    "                                    shear_range=0.2,)\n",
    "\n",
    "# Flow training images in batches of 128 using train_datagen generator\n",
    "train_generator = train_datagen.flow_from_directory(train_dir, batch_size=128, class_mode='categorical', target_size=(224, 224))\n",
    "\n",
    "# Rescale all images by 1./255 and apply image augmentation\n",
    "validation_datagen = ImageDataGenerator(rescale=1. / 255,\n",
    "                                    rotation_range=40,\n",
    "                                    width_shift_range=0.2,\n",
    "                                    height_shift_range=0.2,\n",
    "                                    shear_range=0.2,)\n",
    "\n",
    "# Flow validation images in batches of 128 using validation_datagen generator\n",
    "validation_generator = validation_datagen.flow_from_directory(validation_dir, batch_size=128, class_mode='categorical', target_size=(224, 224))\n",
    "\n",
    "# Rescale all images by 1./255 and apply image augmentation\n",
    "test_datagen = ImageDataGenerator(rescale=1. / 255,\n",
    "                                    rotation_range=40,\n",
    "                                    width_shift_range=0.2,\n",
    "                                    height_shift_range=0.2,\n",
    "                                    shear_range=0.2,)\n",
    "\n",
    "# Flow test images in batches of 128 using test_datagen generator\n",
    "test_generator = test_datagen.flow_from_directory(test_dir, batch_size=128, class_mode='categorical', target_size=(224, 224))"
   ]
  },
  {
   "attachments": {},
   "cell_type": "markdown",
   "metadata": {},
   "source": [
    "# Training the Model"
   ]
  },
  {
   "cell_type": "code",
   "execution_count": 19,
   "metadata": {},
   "outputs": [
    {
     "name": "stdout",
     "output_type": "stream",
     "text": [
      "Epoch 1/30\n",
      "20/20 [==============================] - 77s 4s/step - loss: 1.7406 - accuracy: 0.3512 - val_loss: 1.6625 - val_accuracy: 0.4062\n",
      "Epoch 2/30\n",
      "20/20 [==============================] - 72s 4s/step - loss: 1.6187 - accuracy: 0.4074 - val_loss: 1.5136 - val_accuracy: 0.4401\n",
      "Epoch 3/30\n",
      "20/20 [==============================] - 69s 3s/step - loss: 1.6411 - accuracy: 0.3984 - val_loss: 1.5295 - val_accuracy: 0.4219\n",
      "Epoch 4/30\n",
      "20/20 [==============================] - 67s 3s/step - loss: 1.5268 - accuracy: 0.4336 - val_loss: 1.3579 - val_accuracy: 0.4661\n",
      "Epoch 5/30\n",
      "20/20 [==============================] - 65s 3s/step - loss: 1.3621 - accuracy: 0.4816 - val_loss: 1.3593 - val_accuracy: 0.5078\n",
      "Epoch 6/30\n",
      "20/20 [==============================] - 64s 3s/step - loss: 1.3612 - accuracy: 0.5055 - val_loss: 1.4759 - val_accuracy: 0.4323\n",
      "Epoch 7/30\n",
      "20/20 [==============================] - 63s 3s/step - loss: 1.2949 - accuracy: 0.5312 - val_loss: 1.2086 - val_accuracy: 0.5365\n",
      "Epoch 8/30\n",
      "20/20 [==============================] - 65s 3s/step - loss: 1.1975 - accuracy: 0.5660 - val_loss: 1.1374 - val_accuracy: 0.5443\n",
      "Epoch 9/30\n",
      "20/20 [==============================] - 63s 3s/step - loss: 1.1200 - accuracy: 0.6023 - val_loss: 1.0336 - val_accuracy: 0.6042\n",
      "Epoch 10/30\n",
      "20/20 [==============================] - 62s 3s/step - loss: 1.0150 - accuracy: 0.6277 - val_loss: 1.0452 - val_accuracy: 0.6302\n",
      "Epoch 11/30\n",
      "20/20 [==============================] - 61s 3s/step - loss: 0.9957 - accuracy: 0.6480 - val_loss: 1.0115 - val_accuracy: 0.6510\n",
      "Epoch 12/30\n",
      "20/20 [==============================] - 61s 3s/step - loss: 1.0390 - accuracy: 0.6340 - val_loss: 0.9014 - val_accuracy: 0.6979\n",
      "Epoch 13/30\n",
      "20/20 [==============================] - 61s 3s/step - loss: 0.8936 - accuracy: 0.6805 - val_loss: 0.8378 - val_accuracy: 0.6927\n",
      "Epoch 14/30\n",
      "20/20 [==============================] - 62s 3s/step - loss: 0.9159 - accuracy: 0.6840 - val_loss: 0.8173 - val_accuracy: 0.6849\n",
      "Epoch 15/30\n",
      "20/20 [==============================] - 60s 3s/step - loss: 0.8712 - accuracy: 0.6930 - val_loss: 0.9276 - val_accuracy: 0.6484\n",
      "Epoch 16/30\n",
      "20/20 [==============================] - 59s 3s/step - loss: 0.7813 - accuracy: 0.7329 - val_loss: 0.6735 - val_accuracy: 0.7630\n",
      "Epoch 17/30\n",
      "20/20 [==============================] - 59s 3s/step - loss: 0.7449 - accuracy: 0.7414 - val_loss: 0.7127 - val_accuracy: 0.7448\n",
      "Epoch 18/30\n",
      "20/20 [==============================] - 60s 3s/step - loss: 0.7680 - accuracy: 0.7359 - val_loss: 0.7415 - val_accuracy: 0.7240\n",
      "Epoch 19/30\n",
      "20/20 [==============================] - 60s 3s/step - loss: 0.7023 - accuracy: 0.7664 - val_loss: 0.7239 - val_accuracy: 0.7370\n",
      "Epoch 20/30\n",
      "20/20 [==============================] - 60s 3s/step - loss: 0.6316 - accuracy: 0.7844 - val_loss: 0.6000 - val_accuracy: 0.7812\n",
      "Epoch 21/30\n",
      "20/20 [==============================] - 59s 3s/step - loss: 0.5752 - accuracy: 0.7973 - val_loss: 0.5360 - val_accuracy: 0.8125\n",
      "Epoch 22/30\n",
      "20/20 [==============================] - 58s 3s/step - loss: 0.6016 - accuracy: 0.7940 - val_loss: 0.5487 - val_accuracy: 0.7995\n",
      "Epoch 23/30\n",
      "20/20 [==============================] - 59s 3s/step - loss: 0.6062 - accuracy: 0.8008 - val_loss: 0.6545 - val_accuracy: 0.7656\n",
      "Epoch 24/30\n",
      "20/20 [==============================] - 60s 3s/step - loss: 0.6198 - accuracy: 0.8000 - val_loss: 0.5588 - val_accuracy: 0.8099\n",
      "Epoch 25/30\n",
      "20/20 [==============================] - 60s 3s/step - loss: 0.5534 - accuracy: 0.8176 - val_loss: 0.4211 - val_accuracy: 0.8542\n",
      "Epoch 26/30\n",
      "20/20 [==============================] - 58s 3s/step - loss: 0.4908 - accuracy: 0.8367 - val_loss: 0.3830 - val_accuracy: 0.8594\n",
      "Epoch 27/30\n",
      "20/20 [==============================] - 57s 3s/step - loss: 0.4394 - accuracy: 0.8599 - val_loss: 0.3775 - val_accuracy: 0.8828\n",
      "Epoch 28/30\n",
      "20/20 [==============================] - 60s 3s/step - loss: 0.4482 - accuracy: 0.8555 - val_loss: 0.3619 - val_accuracy: 0.8932\n",
      "Epoch 29/30\n",
      "20/20 [==============================] - 59s 3s/step - loss: 0.4666 - accuracy: 0.8434 - val_loss: 0.3561 - val_accuracy: 0.8880\n",
      "Epoch 30/30\n",
      "20/20 [==============================] - 62s 3s/step - loss: 0.4366 - accuracy: 0.8570 - val_loss: 0.3600 - val_accuracy: 0.8750\n"
     ]
    }
   ],
   "source": [
    "# tensorboard\n",
    "import datetime\n",
    "\n",
    "log_dir = \"logs/fit/\" + datetime.datetime.now().strftime(\"%Y%m%d-%H%M%S\")\n",
    "tensorboard_callback = tf.keras.callbacks.TensorBoard(log_dir = log_dir, histogram_freq = 1)\n",
    "\n",
    "history = model.fit(train_generator, \n",
    "                    epochs=30, # changed later \n",
    "                    steps_per_epoch=20, \n",
    "                    validation_data=validation_generator, \n",
    "                    callbacks=[tensorboard_callback],\n",
    "                    verbose=1, \n",
    "                    validation_steps=3)"
   ]
  },
  {
   "attachments": {},
   "cell_type": "markdown",
   "metadata": {},
   "source": [
    "# Model Evaluation"
   ]
  },
  {
   "cell_type": "code",
   "execution_count": 20,
   "metadata": {},
   "outputs": [
    {
     "data": {
      "text/plain": [
       "<Figure size 640x480 with 0 Axes>"
      ]
     },
     "execution_count": 20,
     "metadata": {},
     "output_type": "execute_result"
    },
    {
     "data": {
      "image/png": "[encoded data removed]",
      "text/plain": [
       "<Figure size 640x480 with 1 Axes>"
      ]
     },
     "metadata": {},
     "output_type": "display_data"
    },
    {
     "data": {
      "image/png": "[encoded data removed]",
      "text/plain": [
       "<Figure size 640x480 with 1 Axes>"
      ]
     },
     "metadata": {},
     "output_type": "display_data"
    },
    {
     "data": {
      "text/plain": [
       "<Figure size 640x480 with 0 Axes>"
      ]
     },
     "metadata": {},
     "output_type": "display_data"
    }
   ],
   "source": [
    "acc = history.history['accuracy']\n",
    "val_acc = history.history['val_accuracy']\n",
    "loss = history.history['loss']\n",
    "val_loss = history.history['val_loss']\n",
    "\n",
    "epochs_range = range(len(acc))\n",
    "\n",
    "# Plot training and validation accuracy per epoch\n",
    "plt.plot(epochs_range, acc, label='Training Accuracy')\n",
    "plt.plot(epochs_range, val_acc, label='Validation Accuracy')\n",
    "plt.legend(loc='lower right')\n",
    "plt.title('Training and Validation Accuracy')\n",
    "plt.figure()\n",
    "\n",
    "# Plot training and validation loss per epoch\n",
    "plt.plot(epochs_range, loss, label='Training Loss')\n",
    "plt.plot(epochs_range, val_loss, label='Validation Loss')\n",
    "plt.legend(loc='upper right')\n",
    "plt.title('Training and Validation Loss')\n",
    "plt.figure()"
   ]
  },
  {
   "cell_type": "code",
   "execution_count": 21,
   "metadata": {},
   "outputs": [
    {
     "name": "stdout",
     "output_type": "stream",
     "text": [
      "24/24 - 66s - loss: 0.4177 - accuracy: 0.8677 - 66s/epoch - 3s/step\n",
      "\n",
      "Test accuracy: 0.8676666617393494\n"
     ]
    }
   ],
   "source": [
    "# Evaluate the model with the test dataset\n",
    "test_loss, test_acc = model.evaluate(test_generator, verbose=2)\n",
    "print('\\nTest accuracy:', test_acc)"
   ]
  },
  {
   "cell_type": "code",
   "execution_count": 47,
   "metadata": {},
   "outputs": [
    {
     "name": "stdout",
     "output_type": "stream",
     "text": [
      "24/24 [==============================] - 29s 1s/step\n",
      "              precision    recall  f1-score   support\n",
      "\n",
      "        Bean       0.06      0.06      0.06       200\n",
      "Bitter_Gourd       0.06      0.06      0.06       200\n",
      "Bottle_Gourd       0.03      0.03      0.03       200\n",
      "     Brinjal       0.07      0.07      0.07       200\n",
      "    Broccoli       0.09      0.07      0.08       200\n",
      "     Cabbage       0.09      0.12      0.10       200\n",
      "    Capsicum       0.10      0.10      0.10       200\n",
      "      Carrot       0.08      0.08      0.08       200\n",
      " Cauliflower       0.08      0.07      0.08       200\n",
      "    Cucumber       0.08      0.10      0.09       200\n",
      "      Papaya       0.05      0.06      0.05       200\n",
      "      Potato       0.05      0.05      0.05       200\n",
      "     Pumpkin       0.07      0.06      0.06       200\n",
      "      Radish       0.07      0.07      0.07       200\n",
      "      Tomato       0.07      0.07      0.07       200\n",
      "\n",
      "    accuracy                           0.07      3000\n",
      "   macro avg       0.07      0.07      0.07      3000\n",
      "weighted avg       0.07      0.07      0.07      3000\n",
      "\n"
     ]
    }
   ],
   "source": [
    "# predict each image in the test dataset\n",
    "predictions = model.predict(test_generator)\n",
    "\n",
    "# get the index of the highest probability class\n",
    "predicted_classes = np.argmax(predictions, axis=1)\n",
    "\n",
    "# get the ground truth of the test dataset\n",
    "true_classes = test_generator.classes\n",
    "\n",
    "# get the class labels of the test dataset\n",
    "class_labels = list(test_generator.class_indices.keys())\n",
    "\n",
    "# get the classification report using sklearn\n",
    "from sklearn.metrics import classification_report\n",
    "report = classification_report(true_classes, predicted_classes, target_names=class_labels)\n",
    "print(report)"
   ]
  },
  {
   "cell_type": "code",
   "execution_count": 49,
   "metadata": {},
   "outputs": [
    {
     "name": "stdout",
     "output_type": "stream",
     "text": [
      "1/1 [==============================] - 0s 107ms/step\n",
      "Predicted class: 9\n"
     ]
    }
   ],
   "source": [
    "import tensorflow as tf\n",
    "import numpy as np\n",
    "from PIL import Image\n",
    "\n",
    "# Load the model\n",
    "model = tf.keras.models.load_model('./vegetable_classification_model.h5')\n",
    "\n",
    "# Load and preprocess the image\n",
    "image_path = './data/Vegetable Images/test/Bean/0001.jpg'\n",
    "image = Image.open(image_path).resize((224, 224))\n",
    "image_array = np.expand_dims(np.array(image), axis=0)\n",
    "preprocessed_image = image_array / 255.0  # Normalize the pixel values\n",
    "\n",
    "# Predict the class of the image\n",
    "predictions = model.predict(preprocessed_image)\n",
    "predicted_class = np.argmax(predictions[0])  # Get the index of the class with the highest probability\n",
    "\n",
    "# Print the predicted class\n",
    "print('Predicted class:', predicted_class)\n"
   ]
  },
  {
   "cell_type": "code",
   "execution_count": 56,
   "metadata": {},
   "outputs": [
    {
     "name": "stdout",
     "output_type": "stream",
     "text": [
      "1/1 [==============================] - 0s 141ms/step\n",
      "Predicted class: Cabbage\n"
     ]
    }
   ],
   "source": [
    "import tensorflow as tf\n",
    "import numpy as np\n",
    "\n",
    "# Load the trained model\n",
    "model = tf.keras.models.load_model('./vegetable_classification_model.h5')\n",
    "\n",
    "# Preprocess the input image\n",
    "image_path = './data/Vegetable Images/test/Cabbage/0929.jpg'\n",
    "image = tf.keras.preprocessing.image.load_img(image_path, target_size=(224, 224))\n",
    "image_array = tf.keras.preprocessing.image.img_to_array(image)\n",
    "image_array = np.expand_dims(image_array, axis=0)\n",
    "image_array = image_array / 255.0  # Normalize the pixel values\n",
    "\n",
    "# Perform the prediction\n",
    "prediction = model.predict(image_array)\n",
    "\n",
    "# Interpret the results\n",
    "predicted_class_index = np.argmax(prediction)\n",
    "class_names = ['Bean', 'Bitter_Gourd', 'Bottle_Gourd', 'Brinjai', 'Brocolli', 'Cabbage', 'Capsicium', 'Carrot', 'Cauliflower', 'Cucumber', 'Papaya', 'Potato', 'Pumpkin', 'Radish', 'Tomato']  # Add your class names here\n",
    "predicted_class_name = class_names[predicted_class_index]\n",
    "\n",
    "# Display the predicted class\n",
    "print(\"Predicted class:\", predicted_class_name)\n"
   ]
  },
  {
   "cell_type": "code",
   "execution_count": 22,
   "metadata": {},
   "outputs": [],
   "source": [
    "# Save the model\n",
    "model.save('vegetable_classification_model.h5')"
   ]
  }
 ],
 "metadata": {
  "kernelspec": {
   "display_name": ".venv",
   "language": "python",
   "name": "python3"
  },
  "language_info": {
   "codemirror_mode": {
    "name": "ipython",
    "version": 3
   },
   "file_extension": ".py",
   "mimetype": "text/x-python",
   "name": "python",
   "nbconvert_exporter": "python",
   "pygments_lexer": "ipython3",
   "version": "3.10.0"
  },
  "orig_nbformat": 4
 },
 "nbformat": 4,
 "nbformat_minor": 2
}
