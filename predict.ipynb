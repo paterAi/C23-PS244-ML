{
 "cells": [
  {
   "cell_type": "code",
   "execution_count": 2,
   "metadata": {},
   "outputs": [
    {
     "name": "stdout",
     "output_type": "stream",
     "text": [
      "1/1 [==============================] - 0s 261ms/step\n",
      "Predicted class: Carrot\n"
     ]
    }
   ],
   "source": [
    "import tensorflow as tf\n",
    "import numpy as np\n",
    "\n",
    "# Load the trained model\n",
    "model = tf.keras.models.load_model('./vegetable_classification_model.h5')\n",
    "\n",
    "# Preprocess the input image\n",
    "image_path = './data/Vegetable Images/test/Carrot/1001.jpg'\n",
    "image = tf.keras.preprocessing.image.load_img(image_path, target_size=(224, 224))\n",
    "image_array = tf.keras.preprocessing.image.img_to_array(image)\n",
    "image_array = np.expand_dims(image_array, axis=0)\n",
    "image_array = image_array / 255.0  # Normalize the pixel values\n",
    "\n",
    "# Perform the prediction\n",
    "prediction = model.predict(image_array)\n",
    "\n",
    "# Interpret the results\n",
    "predicted_class_index = np.argmax(prediction)\n",
    "class_names = ['Bean', 'Bitter_Gourd', 'Bottle_Gourd', 'Brinjai', 'Brocolli', 'Cabbage', 'Capsicium', 'Carrot', 'Cauliflower', 'Cucumber', 'Papaya', 'Potato', 'Pumpkin', 'Radish', 'Tomato']  # Add your class names here\n",
    "predicted_class_name = class_names[predicted_class_index]\n",
    "\n",
    "# Display the predicted class\n",
    "print(\"Predicted class:\", predicted_class_name)\n"
   ]
  },
  {
   "cell_type": "code",
   "execution_count": 4,
   "metadata": {},
   "outputs": [
    {
     "name": "stdout",
     "output_type": "stream",
     "text": [
      "Predicted class: Carrot\n"
     ]
    }
   ],
   "source": [
    "# Use quantized model for prediction\n",
    "\n",
    "# load the model\n",
    "model = tf.lite.Interpreter(model_path=\"./vegetable_classification_model_quantized.tflite\")\n",
    "model.allocate_tensors()\n",
    "\n",
    "# get the input and output tensors\n",
    "input_details = model.get_input_details()\n",
    "output_details = model.get_output_details()\n",
    "\n",
    "# preprocess the input image\n",
    "image_path = './data/Vegetable Images/test/Carrot/1001.jpg'\n",
    "image = tf.keras.preprocessing.image.load_img(image_path, target_size=(224, 224))\n",
    "image_array = tf.keras.preprocessing.image.img_to_array(image)\n",
    "image_array = np.expand_dims(image_array, axis=0)\n",
    "image_array = image_array / 255.0  # Normalize the pixel values\n",
    "\n",
    "# set the input tensor\n",
    "model.set_tensor(input_details[0]['index'], image_array)\n",
    "\n",
    "# perform the prediction\n",
    "model.invoke()\n",
    "\n",
    "# get the output tensor\n",
    "output_data = model.get_tensor(output_details[0]['index'])\n",
    "\n",
    "# interpret the results\n",
    "predicted_class_index = np.argmax(output_data)\n",
    "class_names = ['Bean', 'Bitter_Gourd', 'Bottle_Gourd', 'Brinjai', 'Brocolli', 'Cabbage', 'Capsicium', 'Carrot', 'Cauliflower', 'Cucumber', 'Papaya', 'Potato', 'Pumpkin', 'Radish', 'Tomato']  # Add your class names here\n",
    "predicted_class_name = class_names[predicted_class_index]\n",
    "\n",
    "# display the predicted class\n",
    "print(\"Predicted class:\", predicted_class_name)"
   ]
  },
  {
   "cell_type": "code",
   "execution_count": 8,
   "metadata": {},
   "outputs": [],
   "source": [
    "# Use real time camera feed for prediction\n",
    "\n",
    "# load the model\n",
    "model = tf.lite.Interpreter(model_path=\"./vegetable_classification_model_quantized.tflite\")\n",
    "model.allocate_tensors()\n",
    "\n",
    "# get the input and output tensors\n",
    "input_details = model.get_input_details()\n",
    "output_details = model.get_output_details()\n",
    "\n",
    "# load the camera\n",
    "import cv2\n",
    "cap = cv2.VideoCapture(0)\n",
    "\n",
    "while True:\n",
    "    ret, frame = cap.read()\n",
    "    \n",
    "    # preprocess the input image\n",
    "    image = cv2.resize(frame, (224, 224))\n",
    "    image_array = tf.keras.preprocessing.image.img_to_array(image)\n",
    "    image_array = np.expand_dims(image_array, axis=0)\n",
    "    image_array = image_array / 255.0  # Normalize the pixel values\n",
    "\n",
    "    # set the input tensor\n",
    "    model.set_tensor(input_details[0]['index'], image_array)\n",
    "\n",
    "    # perform the prediction\n",
    "    model.invoke()\n",
    "\n",
    "    # get the output tensor\n",
    "    output_data = model.get_tensor(output_details[0]['index'])\n",
    "\n",
    "    # interpret the results\n",
    "    predicted_class_index = np.argmax(output_data)\n",
    "\n",
    "    class_names = ['Bean', 'Bitter_Gourd', 'Bottle_Gourd', 'Brinjai', 'Brocolli', 'Cabbage', 'Capsicium', 'Carrot', 'Cauliflower', 'Cucumber', 'Papaya', 'Potato', 'Pumpkin', 'Radish', 'Tomato']  # Add your class names here\n",
    "    predicted_class_name = class_names[predicted_class_index]\n",
    "\n",
    "    # display the predicted class\n",
    "    cv2.putText(frame, predicted_class_name, (10, 35), cv2.FONT_HERSHEY_SIMPLEX, 1.0, (0, 255, 0), 2)\n",
    "    cv2.imshow('Vegetable Classification', frame)\n",
    "\n",
    "    if cv2.waitKey(1) == ord('q'):\n",
    "        break\n",
    "    \n",
    "cap.release()\n",
    "cv2.destroyAllWindows()"
   ]
  }
 ],
 "metadata": {
  "kernelspec": {
   "display_name": ".venv",
   "language": "python",
   "name": "python3"
  },
  "language_info": {
   "codemirror_mode": {
    "name": "ipython",
    "version": 3
   },
   "file_extension": ".py",
   "mimetype": "text/x-python",
   "name": "python",
   "nbconvert_exporter": "python",
   "pygments_lexer": "ipython3",
   "version": "3.10.0"
  },
  "orig_nbformat": 4
 },
 "nbformat": 4,
 "nbformat_minor": 2
}
