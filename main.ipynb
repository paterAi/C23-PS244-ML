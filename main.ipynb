{
 "cells": [
  {
   "attachments": {},
   "cell_type": "markdown",
   "metadata": {},
   "source": [
    "# Important Library\n",
    "\n",
    "We use the following libraries in this project:\n",
    "* [Pandas](https://pandas.pydata.org/) - Data Analysis\n",
    "* [Numpy](https://numpy.org/) - Data Analysis\n",
    "* [Matplotlib](https://matplotlib.org/) - Data Visualization\n",
    "* [Seaborn](https://seaborn.pydata.org/) - Data Visualization\n",
    "* [Scikit-learn](https://scikit-learn.org/stable/) - Machine Learning\n",
    "* [Tensorflow](https://www.tensorflow.org/) - Machine Learning\n",
    "* [Keras](https://keras.io/) - Machine Learning"
   ]
  },
  {
   "cell_type": "code",
   "execution_count": 2,
   "metadata": {},
   "outputs": [
    {
     "name": "stdout",
     "output_type": "stream",
     "text": [
      "2.12.0\n",
      "1.23.5\n",
      "0.12.2\n"
     ]
    }
   ],
   "source": [
    "import tensorflow as tf\n",
    "import numpy as np\n",
    "import matplotlib.pyplot as plt\n",
    "import os\n",
    "import seaborn as sns\n",
    "\n",
    "print(tf.__version__)\n",
    "print(np.__version__)\n",
    "print(sns.__version__)"
   ]
  },
  {
   "attachments": {},
   "cell_type": "markdown",
   "metadata": {},
   "source": [
    "# Exploring the Dataset"
   ]
  },
  {
   "cell_type": "code",
   "execution_count": 3,
   "metadata": {},
   "outputs": [],
   "source": [
    "base_dir = './data/Vegetable Images'\n",
    "\n",
    "train_dir = os.path.join(base_dir, 'train')\n",
    "validation_dir = os.path.join(base_dir, 'validation')\n",
    "test_dir = os.path.join(base_dir, 'test')\n",
    "\n",
    "# Directory with our training pictures\n",
    "train_bean_dir = os.path.join(train_dir, 'Bean')\n",
    "train_bitter_gourd_dir = os.path.join(train_dir, 'Bitter_Gourd')\n",
    "train_bottle_gourd_dir = os.path.join(train_dir, 'Bottle_Gourd')\n",
    "train_brinjal_dir = os.path.join(train_dir, 'Brinjal')\n",
    "train_broccoli_dir = os.path.join(train_dir, 'Broccoli')\n",
    "train_cabbage_dir = os.path.join(train_dir, 'Cabbage')\n",
    "train_capsicum_dir = os.path.join(train_dir, 'Capsicum')\n",
    "train_carrot_dir = os.path.join(train_dir, 'Carrot')\n",
    "train_cauliflower_dir = os.path.join(train_dir, 'Cauliflower')\n",
    "train_cucumber_dir = os.path.join(train_dir, 'Cucumber')\n",
    "train_papaya_dir = os.path.join(train_dir, 'Papaya')\n",
    "train_potato_dir = os.path.join(train_dir, 'Potato')\n",
    "train_pumpkin_dir = os.path.join(train_dir, 'Pumpkin')\n",
    "train_radish_dir = os.path.join(train_dir, 'Radish')\n",
    "train_tomato_dir = os.path.join(train_dir, 'Tomato')\n",
    "\n",
    "# Directory with our validation pictures\n",
    "validation_bean_dir = os.path.join(validation_dir, 'Bean')\n",
    "validation_bitter_gourd_dir = os.path.join(validation_dir, 'Bitter_Gourd')\n",
    "validation_bottle_gourd_dir = os.path.join(validation_dir, 'Bottle_Gourd')\n",
    "validation_brinjal_dir = os.path.join(validation_dir, 'Brinjal')\n",
    "validation_broccoli_dir = os.path.join(validation_dir, 'Broccoli')\n",
    "validation_cabbage_dir = os.path.join(validation_dir, 'Cabbage')\n",
    "validation_capsicum_dir = os.path.join(validation_dir, 'Capsicum')\n",
    "validation_carrot_dir = os.path.join(validation_dir, 'Carrot')\n",
    "validation_cauliflower_dir = os.path.join(validation_dir, 'Cauliflower')\n",
    "validation_cucumber_dir = os.path.join(validation_dir, 'Cucumber')\n",
    "validation_papaya_dir = os.path.join(validation_dir, 'Papaya')\n",
    "validation_potato_dir = os.path.join(validation_dir, 'Potato')\n",
    "validation_pumpkin_dir = os.path.join(validation_dir, 'Pumpkin')\n",
    "validation_radish_dir = os.path.join(validation_dir, 'Radish')\n",
    "validation_tomato_dir = os.path.join(validation_dir, 'Tomato')\n",
    "\n",
    "# Directory with our test pictures\n",
    "test_bean_dir = os.path.join(test_dir, 'Bean')\n",
    "test_bitter_gourd_dir = os.path.join(test_dir, 'Bitter_Gourd')\n",
    "test_bottle_gourd_dir = os.path.join(test_dir, 'Bottle_Gourd')\n",
    "test_brinjal_dir = os.path.join(test_dir, 'Brinjal')\n",
    "test_broccoli_dir = os.path.join(test_dir, 'Broccoli')\n",
    "test_cabbage_dir = os.path.join(test_dir, 'Cabbage')\n",
    "test_capsicum_dir = os.path.join(test_dir, 'Capsicum')\n",
    "test_carrot_dir = os.path.join(test_dir, 'Carrot')\n",
    "test_cauliflower_dir = os.path.join(test_dir, 'Cauliflower')\n",
    "test_cucumber_dir = os.path.join(test_dir, 'Cucumber')\n",
    "test_papaya_dir = os.path.join(test_dir, 'Papaya')\n",
    "test_potato_dir = os.path.join(test_dir, 'Potato')\n",
    "test_pumpkin_dir = os.path.join(test_dir, 'Pumpkin')\n",
    "test_radish_dir = os.path.join(test_dir, 'Radish')\n",
    "test_tomato_dir = os.path.join(test_dir, 'Tomato')\n"
   ]
  },
  {
   "attachments": {},
   "cell_type": "markdown",
   "metadata": {},
   "source": [
    "Find how many images for each class in the training set"
   ]
  },
  {
   "cell_type": "code",
   "execution_count": 4,
   "metadata": {},
   "outputs": [
    {
     "name": "stdout",
     "output_type": "stream",
     "text": [
      "total training Bean images: 1000\n",
      "total training Bitter_Gourd images: 1000\n",
      "total training Bottle_Gourd images: 1000\n",
      "total training Brinjal images: 1000\n",
      "total training Broccoli images: 1000\n",
      "total training Cabbage images: 1000\n",
      "total training Capsicum images: 1000\n",
      "total training Carrot images: 1000\n",
      "total training Cauliflower images: 1000\n",
      "total training Cucumber images: 1000\n",
      "total training Papaya images: 1000\n",
      "total training Potato images: 1000\n",
      "total training Pumpkin images: 1000\n",
      "total training Radish images: 1000\n",
      "total training Tomato images: 1000\n"
     ]
    }
   ],
   "source": [
    "print('total training Bean images:', len(os.listdir(train_bean_dir)))\n",
    "print('total training Bitter_Gourd images:', len(os.listdir(train_bitter_gourd_dir)))\n",
    "print('total training Bottle_Gourd images:', len(os.listdir(train_bottle_gourd_dir)))\n",
    "print('total training Brinjal images:', len(os.listdir(train_brinjal_dir)))\n",
    "print('total training Broccoli images:', len(os.listdir(train_broccoli_dir)))\n",
    "print('total training Cabbage images:', len(os.listdir(train_cabbage_dir)))\n",
    "print('total training Capsicum images:', len(os.listdir(train_capsicum_dir)))\n",
    "print('total training Carrot images:', len(os.listdir(train_carrot_dir)))\n",
    "print('total training Cauliflower images:', len(os.listdir(train_cauliflower_dir)))\n",
    "print('total training Cucumber images:', len(os.listdir(train_cucumber_dir)))\n",
    "print('total training Papaya images:', len(os.listdir(train_papaya_dir)))\n",
    "print('total training Potato images:', len(os.listdir(train_potato_dir)))\n",
    "print('total training Pumpkin images:', len(os.listdir(train_pumpkin_dir)))\n",
    "print('total training Radish images:', len(os.listdir(train_radish_dir)))\n",
    "print('total training Tomato images:', len(os.listdir(train_tomato_dir)))"
   ]
  },
  {
   "attachments": {},
   "cell_type": "markdown",
   "metadata": {},
   "source": [
    "Find how many images for each class in the validation set"
   ]
  },
  {
   "cell_type": "code",
   "execution_count": 5,
   "metadata": {},
   "outputs": [
    {
     "name": "stdout",
     "output_type": "stream",
     "text": [
      "total validation Bean images: 200\n",
      "total validation Bitter_Gourd images: 200\n",
      "total validation Bottle_Gourd images: 200\n",
      "total validation Brinjal images: 200\n",
      "total validation Broccoli images: 200\n",
      "total validation Cabbage images: 200\n",
      "total validation Capsicum images: 200\n",
      "total validation Carrot images: 200\n",
      "total validation Cauliflower images: 200\n",
      "total validation Cucumber images: 200\n",
      "total validation Papaya images: 200\n",
      "total validation Potato images: 200\n",
      "total validation Pumpkin images: 200\n",
      "total validation Radish images: 200\n",
      "total validation Tomato images: 200\n"
     ]
    }
   ],
   "source": [
    "print('total validation Bean images:', len(os.listdir(validation_bean_dir)))\n",
    "print('total validation Bitter_Gourd images:', len(os.listdir(validation_bitter_gourd_dir)))\n",
    "print('total validation Bottle_Gourd images:', len(os.listdir(validation_bottle_gourd_dir)))\n",
    "print('total validation Brinjal images:', len(os.listdir(validation_brinjal_dir)))\n",
    "print('total validation Broccoli images:', len(os.listdir(validation_broccoli_dir)))\n",
    "print('total validation Cabbage images:', len(os.listdir(validation_cabbage_dir)))\n",
    "print('total validation Capsicum images:', len(os.listdir(validation_capsicum_dir)))\n",
    "print('total validation Carrot images:', len(os.listdir(validation_carrot_dir)))\n",
    "print('total validation Cauliflower images:', len(os.listdir(validation_cauliflower_dir)))\n",
    "print('total validation Cucumber images:', len(os.listdir(validation_cucumber_dir)))\n",
    "print('total validation Papaya images:', len(os.listdir(validation_papaya_dir)))\n",
    "print('total validation Potato images:', len(os.listdir(validation_potato_dir)))\n",
    "print('total validation Pumpkin images:', len(os.listdir(validation_pumpkin_dir)))\n",
    "print('total validation Radish images:', len(os.listdir(validation_radish_dir)))\n",
    "print('total validation Tomato images:', len(os.listdir(validation_tomato_dir)))"
   ]
  },
  {
   "attachments": {},
   "cell_type": "markdown",
   "metadata": {},
   "source": [
    "Find how many images for eash class in the test set"
   ]
  },
  {
   "cell_type": "code",
   "execution_count": 6,
   "metadata": {},
   "outputs": [
    {
     "name": "stdout",
     "output_type": "stream",
     "text": [
      "total test Bean images: 200\n",
      "total test Bitter_Gourd images: 200\n",
      "total test Bottle_Gourd images: 200\n",
      "total test Brinjal images: 200\n",
      "total test Broccoli images: 200\n",
      "total test Cabbage images: 200\n",
      "total test Capsicum images: 200\n",
      "total test Carrot images: 200\n",
      "total test Cauliflower images: 200\n",
      "total test Cucumber images: 200\n",
      "total test Papaya images: 200\n",
      "total test Potato images: 200\n",
      "total test Pumpkin images: 200\n",
      "total test Radish images: 200\n",
      "total test Tomato images: 200\n"
     ]
    }
   ],
   "source": [
    "print('total test Bean images:', len(os.listdir(test_bean_dir)))\n",
    "print('total test Bitter_Gourd images:', len(os.listdir(test_bitter_gourd_dir)))\n",
    "print('total test Bottle_Gourd images:', len(os.listdir(test_bottle_gourd_dir)))\n",
    "print('total test Brinjal images:', len(os.listdir(test_brinjal_dir)))\n",
    "print('total test Broccoli images:', len(os.listdir(test_broccoli_dir)))\n",
    "print('total test Cabbage images:', len(os.listdir(test_cabbage_dir)))\n",
    "print('total test Capsicum images:', len(os.listdir(test_capsicum_dir)))\n",
    "print('total test Carrot images:', len(os.listdir(test_carrot_dir)))\n",
    "print('total test Cauliflower images:', len(os.listdir(test_cauliflower_dir)))\n",
    "print('total test Cucumber images:', len(os.listdir(test_cucumber_dir)))\n",
    "print('total test Papaya images:', len(os.listdir(test_papaya_dir)))\n",
    "print('total test Potato images:', len(os.listdir(test_potato_dir)))\n",
    "print('total test Pumpkin images:', len(os.listdir(test_pumpkin_dir)))\n",
    "print('total test Radish images:', len(os.listdir(test_radish_dir)))\n",
    "print('total test Tomato images:', len(os.listdir(test_tomato_dir)))"
   ]
  },
  {
   "attachments": {},
   "cell_type": "markdown",
   "metadata": {},
   "source": [
    "# Creating Small Model"
   ]
  },
  {
   "cell_type": "code",
   "execution_count": 7,
   "metadata": {},
   "outputs": [],
   "source": [
    "model = tf.keras.models.Sequential([\n",
    "    # Layer 1\n",
    "    tf.keras.layers.Conv2D(16, (3, 3), activation='relu', input_shape=(224, 224, 3)),\n",
    "    tf.keras.layers.MaxPooling2D(2, 2),\n",
    "\n",
    "    # Layer 2\n",
    "    tf.keras.layers.Conv2D(32, (3, 3), activation='relu'),\n",
    "    tf.keras.layers.MaxPooling2D(2, 2),\n",
    "\n",
    "    # Layer 3\n",
    "    tf.keras.layers.Conv2D(64, (3, 3), activation='relu'),\n",
    "    tf.keras.layers.MaxPooling2D(2, 2),\n",
    "\n",
    "    # Layer 4\n",
    "    tf.keras.layers.Conv2D(128, (3, 3), activation='relu'),\n",
    "    tf.keras.layers.MaxPooling2D(2, 2),\n",
    "\n",
    "    # Layer 5\n",
    "    tf.keras.layers.Conv2D(256, (3, 3), activation='relu'),\n",
    "    tf.keras.layers.MaxPooling2D(2,2),\n",
    "    \n",
    "    #Layer 6\n",
    "    tf.keras.layers.Conv2D(512, (3, 3), activation='relu'),\n",
    "    tf.keras.layers.MaxPooling2D(2,2),\n",
    "       \n",
    "    # Flatten the results to feed into a DNN\n",
    "    tf.keras.layers.Flatten(),\n",
    "\n",
    "    # 512 neuron hidden layer\n",
    "    tf.keras.layers.Dense(1024, activation='relu'),\n",
    "    tf.keras.layers.Dropout(0.2),\n",
    "    \n",
    "    tf.keras.layers.Dense(512, activation='relu'),\n",
    "    tf.keras.layers.Dropout(0.2),\n",
    "\n",
    "    # 15 output neurons for 15 classes with the softmax activation\n",
    "    tf.keras.layers.Dense(15, activation='softmax')\n",
    "])"
   ]
  },
  {
   "cell_type": "code",
   "execution_count": 8,
   "metadata": {},
   "outputs": [
    {
     "name": "stdout",
     "output_type": "stream",
     "text": [
      "Model: \"sequential\"\n",
      "_________________________________________________________________\n",
      " Layer (type)                Output Shape              Param #   \n",
      "=================================================================\n",
      " conv2d (Conv2D)             (None, 222, 222, 16)      448       \n",
      "                                                                 \n",
      " max_pooling2d (MaxPooling2D  (None, 111, 111, 16)     0         \n",
      " )                                                               \n",
      "                                                                 \n",
      " conv2d_1 (Conv2D)           (None, 109, 109, 32)      4640      \n",
      "                                                                 \n",
      " max_pooling2d_1 (MaxPooling  (None, 54, 54, 32)       0         \n",
      " 2D)                                                             \n",
      "                                                                 \n",
      " conv2d_2 (Conv2D)           (None, 52, 52, 64)        18496     \n",
      "                                                                 \n",
      " max_pooling2d_2 (MaxPooling  (None, 26, 26, 64)       0         \n",
      " 2D)                                                             \n",
      "                                                                 \n",
      " conv2d_3 (Conv2D)           (None, 24, 24, 128)       73856     \n",
      "                                                                 \n",
      " max_pooling2d_3 (MaxPooling  (None, 12, 12, 128)      0         \n",
      " 2D)                                                             \n",
      "                                                                 \n",
      " conv2d_4 (Conv2D)           (None, 10, 10, 256)       295168    \n",
      "                                                                 \n",
      " max_pooling2d_4 (MaxPooling  (None, 5, 5, 256)        0         \n",
      " 2D)                                                             \n",
      "                                                                 \n",
      " conv2d_5 (Conv2D)           (None, 3, 3, 512)         1180160   \n",
      "                                                                 \n",
      " max_pooling2d_5 (MaxPooling  (None, 1, 1, 512)        0         \n",
      " 2D)                                                             \n",
      "                                                                 \n",
      " flatten (Flatten)           (None, 512)               0         \n",
      "                                                                 \n",
      " dense (Dense)               (None, 1024)              525312    \n",
      "                                                                 \n",
      " dropout (Dropout)           (None, 1024)              0         \n",
      "                                                                 \n",
      " dense_1 (Dense)             (None, 512)               524800    \n",
      "                                                                 \n",
      " dropout_1 (Dropout)         (None, 512)               0         \n",
      "                                                                 \n",
      " dense_2 (Dense)             (None, 15)                7695      \n",
      "                                                                 \n",
      "=================================================================\n",
      "Total params: 2,630,575\n",
      "Trainable params: 2,630,575\n",
      "Non-trainable params: 0\n",
      "_________________________________________________________________\n"
     ]
    }
   ],
   "source": [
    "model.summary()"
   ]
  },
  {
   "cell_type": "code",
   "execution_count": 9,
   "metadata": {},
   "outputs": [],
   "source": [
    "model.compile(loss='categorical_crossentropy', optimizer='adam', metrics=['accuracy'])"
   ]
  },
  {
   "attachments": {},
   "cell_type": "markdown",
   "metadata": {},
   "source": [
    "# Data Preprocessing"
   ]
  },
  {
   "cell_type": "code",
   "execution_count": 10,
   "metadata": {},
   "outputs": [
    {
     "name": "stdout",
     "output_type": "stream",
     "text": [
      "Found 15000 images belonging to 15 classes.\n",
      "Found 3000 images belonging to 15 classes.\n",
      "Found 3000 images belonging to 15 classes.\n"
     ]
    }
   ],
   "source": [
    "from keras.preprocessing.image import ImageDataGenerator\n",
    "\n",
    "# Rescale all images by 1./255 and apply image augmentation\n",
    "train_datagen = ImageDataGenerator(rescale=1. / 255,\n",
    "                                    rotation_range=40,\n",
    "                                    width_shift_range=0.2,\n",
    "                                    height_shift_range=0.2,\n",
    "                                    shear_range=0.2,)\n",
    "\n",
    "# Flow training images in batches of 128 using train_datagen generator\n",
    "train_generator = train_datagen.flow_from_directory(train_dir, batch_size=128, class_mode='categorical', target_size=(224, 224))\n",
    "\n",
    "# Rescale all images by 1./255 and apply image augmentation\n",
    "validation_datagen = ImageDataGenerator(rescale=1. / 255,\n",
    "                                    rotation_range=40,\n",
    "                                    width_shift_range=0.2,\n",
    "                                    height_shift_range=0.2,\n",
    "                                    shear_range=0.2,)\n",
    "\n",
    "# Flow validation images in batches of 128 using validation_datagen generator\n",
    "validation_generator = validation_datagen.flow_from_directory(validation_dir, batch_size=128, class_mode='categorical', target_size=(224, 224))\n",
    "\n",
    "# Rescale all images by 1./255 and apply image augmentation\n",
    "test_datagen = ImageDataGenerator(rescale=1. / 255,\n",
    "                                    rotation_range=40,\n",
    "                                    width_shift_range=0.2,\n",
    "                                    height_shift_range=0.2,\n",
    "                                    shear_range=0.2,)\n",
    "\n",
    "# Flow test images in batches of 128 using test_datagen generator\n",
    "test_generator = test_datagen.flow_from_directory(test_dir, batch_size=128, class_mode='categorical', target_size=(224, 224))"
   ]
  },
  {
   "attachments": {},
   "cell_type": "markdown",
   "metadata": {},
   "source": [
    "# Training the Model"
   ]
  },
  {
   "cell_type": "code",
   "execution_count": 11,
   "metadata": {},
   "outputs": [
    {
     "name": "stdout",
     "output_type": "stream",
     "text": [
      "Epoch 1/100\n",
      "20/20 [==============================] - 89s 4s/step - loss: 2.5614 - accuracy: 0.1121 - val_loss: 2.3097 - val_accuracy: 0.2266\n",
      "Epoch 2/100\n",
      "20/20 [==============================] - 84s 4s/step - loss: 2.1619 - accuracy: 0.2035 - val_loss: 2.0379 - val_accuracy: 0.2344\n",
      "Epoch 3/100\n",
      "20/20 [==============================] - 78s 4s/step - loss: 1.9165 - accuracy: 0.3023 - val_loss: 1.8251 - val_accuracy: 0.3333\n",
      "Epoch 4/100\n",
      "20/20 [==============================] - 71s 4s/step - loss: 1.7799 - accuracy: 0.3402 - val_loss: 1.7340 - val_accuracy: 0.3594\n",
      "Epoch 5/100\n",
      "20/20 [==============================] - 63s 3s/step - loss: 1.6891 - accuracy: 0.3766 - val_loss: 1.5113 - val_accuracy: 0.4583\n",
      "Epoch 6/100\n",
      "20/20 [==============================] - 60s 3s/step - loss: 1.6198 - accuracy: 0.4169 - val_loss: 1.6544 - val_accuracy: 0.4297\n",
      "Epoch 7/100\n",
      "20/20 [==============================] - 67s 3s/step - loss: 1.5650 - accuracy: 0.4242 - val_loss: 1.6053 - val_accuracy: 0.4271\n",
      "Epoch 8/100\n",
      "20/20 [==============================] - 79s 4s/step - loss: 1.5508 - accuracy: 0.4234 - val_loss: 1.4803 - val_accuracy: 0.4271\n",
      "Epoch 9/100\n",
      "20/20 [==============================] - 94s 5s/step - loss: 1.4452 - accuracy: 0.4664 - val_loss: 1.4097 - val_accuracy: 0.4818\n",
      "Epoch 10/100\n",
      "20/20 [==============================] - 92s 5s/step - loss: 1.3990 - accuracy: 0.4785 - val_loss: 1.4254 - val_accuracy: 0.4505\n",
      "Epoch 11/100\n",
      "20/20 [==============================] - 88s 4s/step - loss: 1.3247 - accuracy: 0.5137 - val_loss: 1.1899 - val_accuracy: 0.5677\n",
      "Epoch 12/100\n",
      "20/20 [==============================] - 70s 3s/step - loss: 1.2839 - accuracy: 0.5395 - val_loss: 1.2479 - val_accuracy: 0.5391\n",
      "Epoch 13/100\n",
      "20/20 [==============================] - 66s 3s/step - loss: 1.2459 - accuracy: 0.5391 - val_loss: 1.1443 - val_accuracy: 0.5911\n",
      "Epoch 14/100\n",
      "20/20 [==============================] - 65s 3s/step - loss: 1.2165 - accuracy: 0.5688 - val_loss: 1.2879 - val_accuracy: 0.5495\n",
      "Epoch 15/100\n",
      "20/20 [==============================] - 61s 3s/step - loss: 1.1427 - accuracy: 0.6113 - val_loss: 0.9825 - val_accuracy: 0.6380\n",
      "Epoch 16/100\n",
      "20/20 [==============================] - 58s 3s/step - loss: 0.9657 - accuracy: 0.6612 - val_loss: 1.5714 - val_accuracy: 0.5104\n",
      "Epoch 17/100\n",
      "20/20 [==============================] - 60s 3s/step - loss: 1.0098 - accuracy: 0.6449 - val_loss: 1.0520 - val_accuracy: 0.6406\n",
      "Epoch 18/100\n",
      "20/20 [==============================] - 59s 3s/step - loss: 0.9847 - accuracy: 0.6527 - val_loss: 0.8766 - val_accuracy: 0.7005\n",
      "Epoch 19/100\n",
      "20/20 [==============================] - 58s 3s/step - loss: 0.8975 - accuracy: 0.6809 - val_loss: 0.8235 - val_accuracy: 0.6849\n",
      "Epoch 20/100\n",
      "20/20 [==============================] - 58s 3s/step - loss: 0.8805 - accuracy: 0.6941 - val_loss: 0.8911 - val_accuracy: 0.6927\n",
      "Epoch 21/100\n",
      "20/20 [==============================] - 58s 3s/step - loss: 0.8389 - accuracy: 0.7105 - val_loss: 0.8840 - val_accuracy: 0.7005\n",
      "Epoch 22/100\n",
      "20/20 [==============================] - 54s 3s/step - loss: 0.8513 - accuracy: 0.7176 - val_loss: 0.8395 - val_accuracy: 0.7005\n",
      "Epoch 23/100\n",
      "20/20 [==============================] - 54s 3s/step - loss: 0.8032 - accuracy: 0.7258 - val_loss: 0.6465 - val_accuracy: 0.7708\n",
      "Epoch 24/100\n",
      "20/20 [==============================] - 54s 3s/step - loss: 0.6782 - accuracy: 0.7727 - val_loss: 0.6508 - val_accuracy: 0.7734\n",
      "Epoch 25/100\n",
      "20/20 [==============================] - 54s 3s/step - loss: 0.6580 - accuracy: 0.7773 - val_loss: 0.6713 - val_accuracy: 0.7578\n",
      "Epoch 26/100\n",
      "20/20 [==============================] - 53s 3s/step - loss: 0.7010 - accuracy: 0.7516 - val_loss: 0.6475 - val_accuracy: 0.7865\n",
      "Epoch 27/100\n",
      "20/20 [==============================] - 53s 3s/step - loss: 0.7320 - accuracy: 0.7500 - val_loss: 0.6052 - val_accuracy: 0.7969\n",
      "Epoch 28/100\n",
      "20/20 [==============================] - 55s 3s/step - loss: 0.6505 - accuracy: 0.7711 - val_loss: 0.4914 - val_accuracy: 0.8359\n",
      "Epoch 29/100\n",
      "20/20 [==============================] - 56s 3s/step - loss: 0.5538 - accuracy: 0.8145 - val_loss: 0.6340 - val_accuracy: 0.7786\n",
      "Epoch 30/100\n",
      "20/20 [==============================] - 55s 3s/step - loss: 0.5894 - accuracy: 0.7993 - val_loss: 0.5736 - val_accuracy: 0.8151\n",
      "Epoch 31/100\n",
      "20/20 [==============================] - 56s 3s/step - loss: 0.5545 - accuracy: 0.8176 - val_loss: 0.4887 - val_accuracy: 0.8516\n",
      "Epoch 32/100\n",
      "20/20 [==============================] - 56s 3s/step - loss: 0.5525 - accuracy: 0.8152 - val_loss: 0.5202 - val_accuracy: 0.8281\n",
      "Epoch 33/100\n",
      "20/20 [==============================] - 55s 3s/step - loss: 0.5535 - accuracy: 0.8168 - val_loss: 0.4641 - val_accuracy: 0.8464\n",
      "Epoch 34/100\n",
      "20/20 [==============================] - 54s 3s/step - loss: 0.4983 - accuracy: 0.8306 - val_loss: 0.5715 - val_accuracy: 0.8203\n",
      "Epoch 35/100\n",
      "20/20 [==============================] - 56s 3s/step - loss: 0.5043 - accuracy: 0.8359 - val_loss: 0.7469 - val_accuracy: 0.7786\n",
      "Epoch 36/100\n",
      "20/20 [==============================] - 56s 3s/step - loss: 0.4670 - accuracy: 0.8449 - val_loss: 0.3757 - val_accuracy: 0.8724\n",
      "Epoch 37/100\n",
      "20/20 [==============================] - 54s 3s/step - loss: 0.4251 - accuracy: 0.8603 - val_loss: 0.4647 - val_accuracy: 0.8438\n",
      "Epoch 38/100\n",
      "20/20 [==============================] - 54s 3s/step - loss: 0.5729 - accuracy: 0.8261 - val_loss: 0.5376 - val_accuracy: 0.8125\n",
      "Epoch 39/100\n",
      "20/20 [==============================] - 56s 3s/step - loss: 0.5371 - accuracy: 0.8246 - val_loss: 0.4702 - val_accuracy: 0.8281\n",
      "Epoch 40/100\n",
      "20/20 [==============================] - 55s 3s/step - loss: 0.3933 - accuracy: 0.8723 - val_loss: 0.4036 - val_accuracy: 0.8750\n",
      "Epoch 41/100\n",
      "20/20 [==============================] - 54s 3s/step - loss: 0.4307 - accuracy: 0.8574 - val_loss: 0.4011 - val_accuracy: 0.8646\n",
      "Epoch 42/100\n",
      "20/20 [==============================] - 65s 3s/step - loss: 0.4197 - accuracy: 0.8590 - val_loss: 0.3891 - val_accuracy: 0.8854\n",
      "Epoch 43/100\n",
      "20/20 [==============================] - 60s 3s/step - loss: 0.3825 - accuracy: 0.8754 - val_loss: 0.4276 - val_accuracy: 0.8542\n",
      "Epoch 44/100\n",
      "20/20 [==============================] - 62s 3s/step - loss: 0.4292 - accuracy: 0.8607 - val_loss: 0.4969 - val_accuracy: 0.8359\n",
      "Epoch 45/100\n",
      "20/20 [==============================] - 64s 3s/step - loss: 0.3709 - accuracy: 0.8836 - val_loss: 0.4272 - val_accuracy: 0.8568\n",
      "Epoch 46/100\n",
      "20/20 [==============================] - 64s 3s/step - loss: 0.3044 - accuracy: 0.8973 - val_loss: 0.5097 - val_accuracy: 0.8281\n",
      "Epoch 47/100\n",
      "20/20 [==============================] - 62s 3s/step - loss: 0.3217 - accuracy: 0.8930 - val_loss: 0.2396 - val_accuracy: 0.9245\n",
      "Epoch 48/100\n",
      "20/20 [==============================] - 62s 3s/step - loss: 0.2468 - accuracy: 0.9180 - val_loss: 0.2574 - val_accuracy: 0.9219\n",
      "Epoch 49/100\n",
      "20/20 [==============================] - 60s 3s/step - loss: 0.3171 - accuracy: 0.9043 - val_loss: 0.3284 - val_accuracy: 0.8906\n",
      "Epoch 50/100\n",
      "20/20 [==============================] - 60s 3s/step - loss: 0.3221 - accuracy: 0.9008 - val_loss: 0.2695 - val_accuracy: 0.9193\n",
      "Epoch 51/100\n",
      "20/20 [==============================] - 60s 3s/step - loss: 0.2419 - accuracy: 0.9246 - val_loss: 0.3328 - val_accuracy: 0.8828\n",
      "Epoch 52/100\n",
      "20/20 [==============================] - 59s 3s/step - loss: 0.2362 - accuracy: 0.9230 - val_loss: 0.3180 - val_accuracy: 0.9010\n",
      "Epoch 53/100\n",
      "20/20 [==============================] - 60s 3s/step - loss: 0.2505 - accuracy: 0.9152 - val_loss: 0.3026 - val_accuracy: 0.8958\n",
      "Epoch 54/100\n",
      "20/20 [==============================] - 57s 3s/step - loss: 0.2857 - accuracy: 0.9094 - val_loss: 0.4049 - val_accuracy: 0.8646\n",
      "Epoch 55/100\n",
      "20/20 [==============================] - 54s 3s/step - loss: 0.3031 - accuracy: 0.9055 - val_loss: 0.3080 - val_accuracy: 0.8984\n",
      "Epoch 56/100\n",
      "20/20 [==============================] - 54s 3s/step - loss: 0.2478 - accuracy: 0.9227 - val_loss: 0.2355 - val_accuracy: 0.9193\n",
      "Epoch 57/100\n",
      "20/20 [==============================] - 54s 3s/step - loss: 0.2619 - accuracy: 0.9156 - val_loss: 0.1697 - val_accuracy: 0.9401\n",
      "Epoch 58/100\n",
      "20/20 [==============================] - 54s 3s/step - loss: 0.2510 - accuracy: 0.9254 - val_loss: 0.2035 - val_accuracy: 0.9557\n",
      "Epoch 59/100\n",
      "20/20 [==============================] - 54s 3s/step - loss: 0.3190 - accuracy: 0.8914 - val_loss: 0.2367 - val_accuracy: 0.9271\n",
      "Epoch 60/100\n",
      "20/20 [==============================] - 56s 3s/step - loss: 0.2480 - accuracy: 0.9227 - val_loss: 0.2855 - val_accuracy: 0.9141\n",
      "Epoch 61/100\n",
      "20/20 [==============================] - 57s 3s/step - loss: 0.2039 - accuracy: 0.9336 - val_loss: 0.1921 - val_accuracy: 0.9349\n",
      "Epoch 62/100\n",
      "20/20 [==============================] - 59s 3s/step - loss: 0.2010 - accuracy: 0.9391 - val_loss: 0.1612 - val_accuracy: 0.9505\n",
      "Epoch 63/100\n",
      "20/20 [==============================] - 58s 3s/step - loss: 0.2108 - accuracy: 0.9309 - val_loss: 0.1963 - val_accuracy: 0.9401\n",
      "Epoch 64/100\n",
      "20/20 [==============================] - 58s 3s/step - loss: 0.2169 - accuracy: 0.9320 - val_loss: 0.2411 - val_accuracy: 0.9323\n",
      "Epoch 65/100\n",
      "20/20 [==============================] - 58s 3s/step - loss: 0.2202 - accuracy: 0.9301 - val_loss: 0.3638 - val_accuracy: 0.8698\n",
      "Epoch 66/100\n",
      "20/20 [==============================] - 58s 3s/step - loss: 0.2020 - accuracy: 0.9371 - val_loss: 0.2021 - val_accuracy: 0.9219\n",
      "Epoch 67/100\n",
      "20/20 [==============================] - 58s 3s/step - loss: 0.2094 - accuracy: 0.9312 - val_loss: 0.2329 - val_accuracy: 0.9297\n",
      "Epoch 68/100\n",
      "20/20 [==============================] - 57s 3s/step - loss: 0.2823 - accuracy: 0.9129 - val_loss: 0.3147 - val_accuracy: 0.8958\n",
      "Epoch 69/100\n",
      "20/20 [==============================] - 56s 3s/step - loss: 0.2605 - accuracy: 0.9161 - val_loss: 0.2587 - val_accuracy: 0.9219\n",
      "Epoch 70/100\n",
      "20/20 [==============================] - 59s 3s/step - loss: 0.2087 - accuracy: 0.9352 - val_loss: 0.2227 - val_accuracy: 0.9401\n",
      "Epoch 71/100\n",
      "20/20 [==============================] - 56s 3s/step - loss: 0.2036 - accuracy: 0.9340 - val_loss: 0.1748 - val_accuracy: 0.9375\n",
      "Epoch 72/100\n",
      "20/20 [==============================] - 57s 3s/step - loss: 0.1788 - accuracy: 0.9495 - val_loss: 0.2049 - val_accuracy: 0.9349\n",
      "Epoch 73/100\n",
      "20/20 [==============================] - 59s 3s/step - loss: 0.1991 - accuracy: 0.9383 - val_loss: 0.2047 - val_accuracy: 0.9245\n",
      "Epoch 74/100\n",
      "20/20 [==============================] - 59s 3s/step - loss: 0.2075 - accuracy: 0.9367 - val_loss: 0.2129 - val_accuracy: 0.9349\n",
      "Epoch 75/100\n",
      "20/20 [==============================] - 58s 3s/step - loss: 0.1812 - accuracy: 0.9430 - val_loss: 0.2418 - val_accuracy: 0.9219\n",
      "Epoch 76/100\n",
      "20/20 [==============================] - 58s 3s/step - loss: 0.1840 - accuracy: 0.9445 - val_loss: 0.2225 - val_accuracy: 0.9323\n",
      "Epoch 77/100\n",
      "20/20 [==============================] - 58s 3s/step - loss: 0.1661 - accuracy: 0.9504 - val_loss: 0.1918 - val_accuracy: 0.9349\n",
      "Epoch 78/100\n",
      "20/20 [==============================] - 58s 3s/step - loss: 0.2019 - accuracy: 0.9395 - val_loss: 0.4482 - val_accuracy: 0.8620\n",
      "Epoch 79/100\n",
      "20/20 [==============================] - 57s 3s/step - loss: 0.3166 - accuracy: 0.9047 - val_loss: 0.2708 - val_accuracy: 0.9141\n",
      "Epoch 80/100\n",
      "20/20 [==============================] - 58s 3s/step - loss: 0.2270 - accuracy: 0.9312 - val_loss: 0.1112 - val_accuracy: 0.9661\n",
      "Epoch 81/100\n",
      "20/20 [==============================] - 56s 3s/step - loss: 0.1621 - accuracy: 0.9532 - val_loss: 0.2123 - val_accuracy: 0.9453\n",
      "Epoch 82/100\n",
      "20/20 [==============================] - 58s 3s/step - loss: 0.1639 - accuracy: 0.9477 - val_loss: 0.1805 - val_accuracy: 0.9427\n",
      "Epoch 83/100\n",
      "20/20 [==============================] - 58s 3s/step - loss: 0.1657 - accuracy: 0.9461 - val_loss: 0.2098 - val_accuracy: 0.9349\n",
      "Epoch 84/100\n",
      "20/20 [==============================] - 56s 3s/step - loss: 0.1524 - accuracy: 0.9548 - val_loss: 0.1307 - val_accuracy: 0.9505\n",
      "Epoch 85/100\n",
      "20/20 [==============================] - 59s 3s/step - loss: 0.1277 - accuracy: 0.9582 - val_loss: 0.1430 - val_accuracy: 0.9583\n",
      "Epoch 86/100\n",
      "20/20 [==============================] - 59s 3s/step - loss: 0.1363 - accuracy: 0.9594 - val_loss: 0.2498 - val_accuracy: 0.9245\n",
      "Epoch 87/100\n",
      "20/20 [==============================] - 59s 3s/step - loss: 0.1251 - accuracy: 0.9586 - val_loss: 0.1451 - val_accuracy: 0.9609\n",
      "Epoch 88/100\n",
      "20/20 [==============================] - 58s 3s/step - loss: 0.1343 - accuracy: 0.9609 - val_loss: 0.1785 - val_accuracy: 0.9375\n",
      "Epoch 89/100\n",
      "20/20 [==============================] - 57s 3s/step - loss: 0.1049 - accuracy: 0.9672 - val_loss: 0.2205 - val_accuracy: 0.9219\n",
      "Epoch 90/100\n",
      "20/20 [==============================] - 58s 3s/step - loss: 0.1217 - accuracy: 0.9656 - val_loss: 0.1752 - val_accuracy: 0.9427\n",
      "Epoch 91/100\n",
      "20/20 [==============================] - 59s 3s/step - loss: 0.1493 - accuracy: 0.9543 - val_loss: 0.2323 - val_accuracy: 0.9219\n",
      "Epoch 92/100\n",
      "20/20 [==============================] - 59s 3s/step - loss: 0.1631 - accuracy: 0.9516 - val_loss: 0.2697 - val_accuracy: 0.9375\n",
      "Epoch 93/100\n",
      "20/20 [==============================] - 59s 3s/step - loss: 0.1573 - accuracy: 0.9555 - val_loss: 0.2295 - val_accuracy: 0.9245\n",
      "Epoch 94/100\n",
      "20/20 [==============================] - 59s 3s/step - loss: 0.1363 - accuracy: 0.9594 - val_loss: 0.1319 - val_accuracy: 0.9583\n",
      "Epoch 95/100\n",
      "20/20 [==============================] - 59s 3s/step - loss: 0.1207 - accuracy: 0.9637 - val_loss: 0.0872 - val_accuracy: 0.9766\n",
      "Epoch 96/100\n",
      "20/20 [==============================] - 59s 3s/step - loss: 0.1509 - accuracy: 0.9547 - val_loss: 0.1546 - val_accuracy: 0.9557\n",
      "Epoch 97/100\n",
      "20/20 [==============================] - 58s 3s/step - loss: 0.1268 - accuracy: 0.9590 - val_loss: 0.1120 - val_accuracy: 0.9740\n",
      "Epoch 98/100\n",
      "20/20 [==============================] - 57s 3s/step - loss: 0.1426 - accuracy: 0.9523 - val_loss: 0.0895 - val_accuracy: 0.9740\n",
      "Epoch 99/100\n",
      "20/20 [==============================] - 56s 3s/step - loss: 0.1085 - accuracy: 0.9688 - val_loss: 0.1111 - val_accuracy: 0.9714\n",
      "Epoch 100/100\n",
      "20/20 [==============================] - 56s 3s/step - loss: 0.1086 - accuracy: 0.9691 - val_loss: 0.1452 - val_accuracy: 0.9453\n"
     ]
    }
   ],
   "source": [
    "# tensorboard\n",
    "import datetime\n",
    "\n",
    "log_dir = \"logs/fit/\" + datetime.datetime.now().strftime(\"%Y%m%d-%H%M%S\")\n",
    "tensorboard_callback = tf.keras.callbacks.TensorBoard(log_dir = log_dir, histogram_freq = 1)\n",
    "\n",
    "history = model.fit(train_generator, \n",
    "                    epochs=100, # changed later \n",
    "                    steps_per_epoch=20, \n",
    "                    validation_data=validation_generator, \n",
    "                    callbacks=[tensorboard_callback],\n",
    "                    verbose=1, \n",
    "                    validation_steps=3)"
   ]
  },
  {
   "attachments": {},
   "cell_type": "markdown",
   "metadata": {},
   "source": [
    "# Model Evaluation"
   ]
  },
  {
   "cell_type": "code",
   "execution_count": 12,
   "metadata": {},
   "outputs": [
    {
     "data": {
      "text/plain": [
       "<Figure size 640x480 with 0 Axes>"
      ]
     },
     "execution_count": 12,
     "metadata": {},
     "output_type": "execute_result"
    },
    {
     "data": {
      "image/png": "[encoded data removed]",
      "text/plain": [
       "<Figure size 640x480 with 1 Axes>"
      ]
     },
     "metadata": {},
     "output_type": "display_data"
    },
    {
     "data": {
      "image/png": "[encoded data removed]",
      "text/plain": [
       "<Figure size 640x480 with 1 Axes>"
      ]
     },
     "metadata": {},
     "output_type": "display_data"
    },
    {
     "data": {
      "text/plain": [
       "<Figure size 640x480 with 0 Axes>"
      ]
     },
     "metadata": {},
     "output_type": "display_data"
    }
   ],
   "source": [
    "acc = history.history['accuracy']\n",
    "val_acc = history.history['val_accuracy']\n",
    "loss = history.history['loss']\n",
    "val_loss = history.history['val_loss']\n",
    "\n",
    "epochs_range = range(len(acc))\n",
    "\n",
    "# Plot training and validation accuracy per epoch\n",
    "plt.plot(epochs_range, acc, label='Training Accuracy')\n",
    "plt.plot(epochs_range, val_acc, label='Validation Accuracy')\n",
    "plt.legend(loc='lower right')\n",
    "plt.title('Training and Validation Accuracy')\n",
    "plt.figure()\n",
    "\n",
    "# Plot training and validation loss per epoch\n",
    "plt.plot(epochs_range, loss, label='Training Loss')\n",
    "plt.plot(epochs_range, val_loss, label='Validation Loss')\n",
    "plt.legend(loc='upper right')\n",
    "plt.title('Training and Validation Loss')\n",
    "plt.figure()"
   ]
  },
  {
   "cell_type": "code",
   "execution_count": 13,
   "metadata": {},
   "outputs": [
    {
     "name": "stdout",
     "output_type": "stream",
     "text": [
      "24/24 - 57s - loss: 0.1521 - accuracy: 0.9550 - 57s/epoch - 2s/step\n",
      "\n",
      "Test accuracy: 0.9549999833106995\n"
     ]
    }
   ],
   "source": [
    "# Evaluate the model with the test dataset\n",
    "test_loss, test_acc = model.evaluate(test_generator, verbose=2)\n",
    "print('\\nTest accuracy:', test_acc)"
   ]
  },
  {
   "cell_type": "code",
   "execution_count": 22,
   "metadata": {},
   "outputs": [
    {
     "name": "stdout",
     "output_type": "stream",
     "text": [
      "1/1 [==============================] - 0s 188ms/step\n",
      "Predicted class: Carrot\n"
     ]
    }
   ],
   "source": [
    "# Load the trained model\n",
    "model = tf.keras.models.load_model('./vegetable_classification_model.h5')\n",
    "\n",
    "# Preprocess the input image\n",
    "image_path = './data/Vegetable Images/test/Carrot/1001.jpg'\n",
    "image = tf.keras.preprocessing.image.load_img(image_path, target_size=(224, 224))\n",
    "image_array = tf.keras.preprocessing.image.img_to_array(image)\n",
    "image_array = np.expand_dims(image_array, axis=0)\n",
    "image_array = image_array / 255.0  # Normalize the pixel values\n",
    "\n",
    "# Perform the prediction\n",
    "prediction = model.predict(image_array)\n",
    "\n",
    "# Interpret the results\n",
    "predicted_class_index = np.argmax(prediction)\n",
    "class_names = ['Bean', 'Bitter_Gourd', 'Bottle_Gourd', 'Brinjai', 'Brocolli', 'Cabbage', 'Capsicium', 'Carrot', 'Cauliflower', 'Cucumber', 'Papaya', 'Potato', 'Pumpkin', 'Radish', 'Tomato']  # Add your class names here\n",
    "predicted_class_name = class_names[predicted_class_index]\n",
    "\n",
    "# Display the predicted class\n",
    "print(\"Predicted class:\", predicted_class_name)\n"
   ]
  },
  {
   "cell_type": "code",
   "execution_count": 20,
   "metadata": {},
   "outputs": [],
   "source": [
    "# Save the model\n",
    "model.save('vegetable_classification_model.h5')"
   ]
  }
 ],
 "metadata": {
  "kernelspec": {
   "display_name": ".venv",
   "language": "python",
   "name": "python3"
  },
  "language_info": {
   "codemirror_mode": {
    "name": "ipython",
    "version": 3
   },
   "file_extension": ".py",
   "mimetype": "text/x-python",
   "name": "python",
   "nbconvert_exporter": "python",
   "pygments_lexer": "ipython3",
   "version": "3.10.0"
  },
  "orig_nbformat": 4
 },
 "nbformat": 4,
 "nbformat_minor": 2
}
