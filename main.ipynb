{
 "cells": [
  {
   "attachments": {},
   "cell_type": "markdown",
   "metadata": {},
   "source": [
    "# Important Library\n",
    "\n",
    "We use the following libraries in this project:\n",
    "* [Pandas](https://pandas.pydata.org/) - Data Analysis\n",
    "* [Numpy](https://numpy.org/) - Data Analysis\n",
    "* [Matplotlib](https://matplotlib.org/) - Data Visualization\n",
    "* [Seaborn](https://seaborn.pydata.org/) - Data Visualization\n",
    "* [Scikit-learn](https://scikit-learn.org/stable/) - Machine Learning\n",
    "* [Tensorflow](https://www.tensorflow.org/) - Machine Learning\n",
    "* [Keras](https://keras.io/) - Machine Learning"
   ]
  },
  {
   "cell_type": "code",
   "execution_count": 1,
   "metadata": {},
   "outputs": [
    {
     "name": "stdout",
     "output_type": "stream",
     "text": [
      "2.12.0\n",
      "1.23.5\n",
      "0.12.2\n"
     ]
    }
   ],
   "source": [
    "import tensorflow as tf\n",
    "import numpy as np\n",
    "import matplotlib.pyplot as plt\n",
    "import os\n",
    "import seaborn as sns\n",
    "\n",
    "print(tf.__version__)\n",
    "print(np.__version__)\n",
    "print(sns.__version__)"
   ]
  },
  {
   "attachments": {},
   "cell_type": "markdown",
   "metadata": {},
   "source": [
    "# Exploring the Dataset"
   ]
  },
  {
   "cell_type": "code",
   "execution_count": 2,
   "metadata": {},
   "outputs": [],
   "source": [
    "base_dir = './data/Vegetable Images'\n",
    "\n",
    "train_dir = os.path.join(base_dir, 'train')\n",
    "validation_dir = os.path.join(base_dir, 'validation')\n",
    "test_dir = os.path.join(base_dir, 'test')\n",
    "\n",
    "# Directory with our training pictures\n",
    "train_bean_dir = os.path.join(train_dir, 'Bean')\n",
    "train_bitter_gourd_dir = os.path.join(train_dir, 'Bitter_Gourd')\n",
    "train_bottle_gourd_dir = os.path.join(train_dir, 'Bottle_Gourd')\n",
    "train_brinjal_dir = os.path.join(train_dir, 'Brinjal')\n",
    "train_broccoli_dir = os.path.join(train_dir, 'Broccoli')\n",
    "train_cabbage_dir = os.path.join(train_dir, 'Cabbage')\n",
    "train_capsicum_dir = os.path.join(train_dir, 'Capsicum')\n",
    "train_carrot_dir = os.path.join(train_dir, 'Carrot')\n",
    "train_cauliflower_dir = os.path.join(train_dir, 'Cauliflower')\n",
    "train_cucumber_dir = os.path.join(train_dir, 'Cucumber')\n",
    "train_papaya_dir = os.path.join(train_dir, 'Papaya')\n",
    "train_potato_dir = os.path.join(train_dir, 'Potato')\n",
    "train_pumpkin_dir = os.path.join(train_dir, 'Pumpkin')\n",
    "train_radish_dir = os.path.join(train_dir, 'Radish')\n",
    "train_tomato_dir = os.path.join(train_dir, 'Tomato')\n",
    "\n",
    "# Directory with our validation pictures\n",
    "validation_bean_dir = os.path.join(validation_dir, 'Bean')\n",
    "validation_bitter_gourd_dir = os.path.join(validation_dir, 'Bitter_Gourd')\n",
    "validation_bottle_gourd_dir = os.path.join(validation_dir, 'Bottle_Gourd')\n",
    "validation_brinjal_dir = os.path.join(validation_dir, 'Brinjal')\n",
    "validation_broccoli_dir = os.path.join(validation_dir, 'Broccoli')\n",
    "validation_cabbage_dir = os.path.join(validation_dir, 'Cabbage')\n",
    "validation_capsicum_dir = os.path.join(validation_dir, 'Capsicum')\n",
    "validation_carrot_dir = os.path.join(validation_dir, 'Carrot')\n",
    "validation_cauliflower_dir = os.path.join(validation_dir, 'Cauliflower')\n",
    "validation_cucumber_dir = os.path.join(validation_dir, 'Cucumber')\n",
    "validation_papaya_dir = os.path.join(validation_dir, 'Papaya')\n",
    "validation_potato_dir = os.path.join(validation_dir, 'Potato')\n",
    "validation_pumpkin_dir = os.path.join(validation_dir, 'Pumpkin')\n",
    "validation_radish_dir = os.path.join(validation_dir, 'Radish')\n",
    "validation_tomato_dir = os.path.join(validation_dir, 'Tomato')\n",
    "\n",
    "# Directory with our test pictures\n",
    "test_bean_dir = os.path.join(test_dir, 'Bean')\n",
    "test_bitter_gourd_dir = os.path.join(test_dir, 'Bitter_Gourd')\n",
    "test_bottle_gourd_dir = os.path.join(test_dir, 'Bottle_Gourd')\n",
    "test_brinjal_dir = os.path.join(test_dir, 'Brinjal')\n",
    "test_broccoli_dir = os.path.join(test_dir, 'Broccoli')\n",
    "test_cabbage_dir = os.path.join(test_dir, 'Cabbage')\n",
    "test_capsicum_dir = os.path.join(test_dir, 'Capsicum')\n",
    "test_carrot_dir = os.path.join(test_dir, 'Carrot')\n",
    "test_cauliflower_dir = os.path.join(test_dir, 'Cauliflower')\n",
    "test_cucumber_dir = os.path.join(test_dir, 'Cucumber')\n",
    "test_papaya_dir = os.path.join(test_dir, 'Papaya')\n",
    "test_potato_dir = os.path.join(test_dir, 'Potato')\n",
    "test_pumpkin_dir = os.path.join(test_dir, 'Pumpkin')\n",
    "test_radish_dir = os.path.join(test_dir, 'Radish')\n",
    "test_tomato_dir = os.path.join(test_dir, 'Tomato')\n"
   ]
  },
  {
   "attachments": {},
   "cell_type": "markdown",
   "metadata": {},
   "source": [
    "Find how many images for each class in the training set"
   ]
  },
  {
   "cell_type": "code",
   "execution_count": 3,
   "metadata": {},
   "outputs": [
    {
     "name": "stdout",
     "output_type": "stream",
     "text": [
      "total training Bean images: 1000\n",
      "total training Bitter_Gourd images: 1000\n",
      "total training Bottle_Gourd images: 1000\n",
      "total training Brinjal images: 1000\n",
      "total training Broccoli images: 1000\n",
      "total training Cabbage images: 1000\n",
      "total training Capsicum images: 1000\n",
      "total training Carrot images: 1000\n",
      "total training Cauliflower images: 1000\n",
      "total training Cucumber images: 1000\n",
      "total training Papaya images: 1000\n",
      "total training Potato images: 1000\n",
      "total training Pumpkin images: 1000\n",
      "total training Radish images: 1000\n",
      "total training Tomato images: 1000\n"
     ]
    }
   ],
   "source": [
    "print('total training Bean images:', len(os.listdir(train_bean_dir)))\n",
    "print('total training Bitter_Gourd images:', len(os.listdir(train_bitter_gourd_dir)))\n",
    "print('total training Bottle_Gourd images:', len(os.listdir(train_bottle_gourd_dir)))\n",
    "print('total training Brinjal images:', len(os.listdir(train_brinjal_dir)))\n",
    "print('total training Broccoli images:', len(os.listdir(train_broccoli_dir)))\n",
    "print('total training Cabbage images:', len(os.listdir(train_cabbage_dir)))\n",
    "print('total training Capsicum images:', len(os.listdir(train_capsicum_dir)))\n",
    "print('total training Carrot images:', len(os.listdir(train_carrot_dir)))\n",
    "print('total training Cauliflower images:', len(os.listdir(train_cauliflower_dir)))\n",
    "print('total training Cucumber images:', len(os.listdir(train_cucumber_dir)))\n",
    "print('total training Papaya images:', len(os.listdir(train_papaya_dir)))\n",
    "print('total training Potato images:', len(os.listdir(train_potato_dir)))\n",
    "print('total training Pumpkin images:', len(os.listdir(train_pumpkin_dir)))\n",
    "print('total training Radish images:', len(os.listdir(train_radish_dir)))\n",
    "print('total training Tomato images:', len(os.listdir(train_tomato_dir)))"
   ]
  },
  {
   "attachments": {},
   "cell_type": "markdown",
   "metadata": {},
   "source": [
    "Find how many images for each class in the validation set"
   ]
  },
  {
   "cell_type": "code",
   "execution_count": 4,
   "metadata": {},
   "outputs": [
    {
     "name": "stdout",
     "output_type": "stream",
     "text": [
      "total validation Bean images: 200\n",
      "total validation Bitter_Gourd images: 200\n",
      "total validation Bottle_Gourd images: 200\n",
      "total validation Brinjal images: 200\n",
      "total validation Broccoli images: 200\n",
      "total validation Cabbage images: 200\n",
      "total validation Capsicum images: 200\n",
      "total validation Carrot images: 200\n",
      "total validation Cauliflower images: 200\n",
      "total validation Cucumber images: 200\n",
      "total validation Papaya images: 200\n",
      "total validation Potato images: 200\n",
      "total validation Pumpkin images: 200\n",
      "total validation Radish images: 200\n",
      "total validation Tomato images: 200\n"
     ]
    }
   ],
   "source": [
    "print('total validation Bean images:', len(os.listdir(validation_bean_dir)))\n",
    "print('total validation Bitter_Gourd images:', len(os.listdir(validation_bitter_gourd_dir)))\n",
    "print('total validation Bottle_Gourd images:', len(os.listdir(validation_bottle_gourd_dir)))\n",
    "print('total validation Brinjal images:', len(os.listdir(validation_brinjal_dir)))\n",
    "print('total validation Broccoli images:', len(os.listdir(validation_broccoli_dir)))\n",
    "print('total validation Cabbage images:', len(os.listdir(validation_cabbage_dir)))\n",
    "print('total validation Capsicum images:', len(os.listdir(validation_capsicum_dir)))\n",
    "print('total validation Carrot images:', len(os.listdir(validation_carrot_dir)))\n",
    "print('total validation Cauliflower images:', len(os.listdir(validation_cauliflower_dir)))\n",
    "print('total validation Cucumber images:', len(os.listdir(validation_cucumber_dir)))\n",
    "print('total validation Papaya images:', len(os.listdir(validation_papaya_dir)))\n",
    "print('total validation Potato images:', len(os.listdir(validation_potato_dir)))\n",
    "print('total validation Pumpkin images:', len(os.listdir(validation_pumpkin_dir)))\n",
    "print('total validation Radish images:', len(os.listdir(validation_radish_dir)))\n",
    "print('total validation Tomato images:', len(os.listdir(validation_tomato_dir)))"
   ]
  },
  {
   "attachments": {},
   "cell_type": "markdown",
   "metadata": {},
   "source": [
    "Find how many images for eash class in the test set"
   ]
  },
  {
   "cell_type": "code",
   "execution_count": 5,
   "metadata": {},
   "outputs": [
    {
     "name": "stdout",
     "output_type": "stream",
     "text": [
      "total test Bean images: 200\n",
      "total test Bitter_Gourd images: 200\n",
      "total test Bottle_Gourd images: 200\n",
      "total test Brinjal images: 200\n",
      "total test Broccoli images: 200\n",
      "total test Cabbage images: 200\n",
      "total test Capsicum images: 200\n",
      "total test Carrot images: 200\n",
      "total test Cauliflower images: 200\n",
      "total test Cucumber images: 200\n",
      "total test Papaya images: 200\n",
      "total test Potato images: 200\n",
      "total test Pumpkin images: 200\n",
      "total test Radish images: 200\n",
      "total test Tomato images: 200\n"
     ]
    }
   ],
   "source": [
    "print('total test Bean images:', len(os.listdir(test_bean_dir)))\n",
    "print('total test Bitter_Gourd images:', len(os.listdir(test_bitter_gourd_dir)))\n",
    "print('total test Bottle_Gourd images:', len(os.listdir(test_bottle_gourd_dir)))\n",
    "print('total test Brinjal images:', len(os.listdir(test_brinjal_dir)))\n",
    "print('total test Broccoli images:', len(os.listdir(test_broccoli_dir)))\n",
    "print('total test Cabbage images:', len(os.listdir(test_cabbage_dir)))\n",
    "print('total test Capsicum images:', len(os.listdir(test_capsicum_dir)))\n",
    "print('total test Carrot images:', len(os.listdir(test_carrot_dir)))\n",
    "print('total test Cauliflower images:', len(os.listdir(test_cauliflower_dir)))\n",
    "print('total test Cucumber images:', len(os.listdir(test_cucumber_dir)))\n",
    "print('total test Papaya images:', len(os.listdir(test_papaya_dir)))\n",
    "print('total test Potato images:', len(os.listdir(test_potato_dir)))\n",
    "print('total test Pumpkin images:', len(os.listdir(test_pumpkin_dir)))\n",
    "print('total test Radish images:', len(os.listdir(test_radish_dir)))\n",
    "print('total test Tomato images:', len(os.listdir(test_tomato_dir)))"
   ]
  }
 ],
 "metadata": {
  "kernelspec": {
   "display_name": ".venv",
   "language": "python",
   "name": "python3"
  },
  "language_info": {
   "codemirror_mode": {
    "name": "ipython",
    "version": 3
   },
   "file_extension": ".py",
   "mimetype": "text/x-python",
   "name": "python",
   "nbconvert_exporter": "python",
   "pygments_lexer": "ipython3",
   "version": "3.10.0"
  },
  "orig_nbformat": 4
 },
 "nbformat": 4,
 "nbformat_minor": 2
}
